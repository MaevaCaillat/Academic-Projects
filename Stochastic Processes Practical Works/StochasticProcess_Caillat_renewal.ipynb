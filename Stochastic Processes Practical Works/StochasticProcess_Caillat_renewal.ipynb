{
 "cells": [
  {
   "cell_type": "markdown",
   "metadata": {},
   "source": [
    "\n",
    "\n",
    "# Introduction aux Processus Stochastiques (PRSTO)\n",
    "*P. Carmona*\n",
    "\n",
    "Pour avancer dans le notebook et exécuter les cellules il faut taper Shift+Enter ou utiliser la barre d'outils ci-dessus et choisir Cell, Run Cell and select Below\n",
    "\n",
    "## Consignes\n",
    "\n",
    "Vous répondrez aux  questions en modifiant ce notebook. En insérant des cellules de type Markdown pour le texte et des cellules de type code pour le code. \n",
    "\n",
    "Ensuite vous sauvez ce notebook sous le nom Prenom_Nom_tpmarkov.ipynb et vous le déposez sur Moodle"
   ]
  },
  {
   "cell_type": "markdown",
   "metadata": {},
   "source": [
    "## Simulation d'un processus de Poisson\n",
    "Nous allons simuler un processus de Poisson d'intensité $\\lambda=1/10\n",
    "$ mn\n",
    "sur un intervalle de temps d'une journée $T=24*60=1440$. La commande\n"
   ]
  },
  {
   "cell_type": "code",
   "execution_count": 2,
   "metadata": {},
   "outputs": [
    {
     "data": {
      "text/plain": [
       "40.862535940135565"
      ]
     },
     "execution_count": 2,
     "metadata": {},
     "output_type": "execute_result"
    }
   ],
   "source": [
    "import numpy as np\n",
    "import matplotlib.pyplot as plt\n",
    "import numpy.random as rnd\n",
    "%matplotlib inline\n",
    "\n",
    "lam = 0.1\n",
    "x = rnd.exponential(scale=1/lam)\n",
    "x"
   ]
  },
  {
   "cell_type": "markdown",
   "metadata": {},
   "source": [
    "génère une variable exponentielle de paramètre $\\lambda$ et la place\n",
    "dans $x$. Pour générer un échantillon de $n=500$ variables, calculer\n",
    "la moyenne et la variance empiriques, et tracer un histogramme\n",
    "normalisé,avec 50 barres, on\n",
    "écrit"
   ]
  },
  {
   "cell_type": "code",
   "execution_count": 3,
   "metadata": {},
   "outputs": [
    {
     "data": {
      "text/plain": [
       "(array([0.08604459, 0.0759217 , 0.05061446, 0.05314519, 0.06832953,\n",
       "        0.05441055, 0.03416476, 0.03543013, 0.02530723, 0.02277651,\n",
       "        0.01898042, 0.0164497 , 0.00885753, 0.01518434, 0.01012289,\n",
       "        0.00759217, 0.00759217, 0.00253072, 0.00126536, 0.00885753,\n",
       "        0.00759217, 0.00126536, 0.00126536, 0.00379608, 0.00253072,\n",
       "        0.00253072, 0.        , 0.00253072, 0.00253072, 0.        ,\n",
       "        0.00126536, 0.        , 0.00126536, 0.        , 0.        ,\n",
       "        0.        , 0.        , 0.        , 0.        , 0.        ,\n",
       "        0.00126536, 0.        , 0.        , 0.        , 0.        ,\n",
       "        0.        , 0.        , 0.        , 0.        , 0.00126536]),\n",
       " array([1.78824794e-02, 1.59845832e+00, 3.17903416e+00, 4.75961000e+00,\n",
       "        6.34018584e+00, 7.92076168e+00, 9.50133753e+00, 1.10819134e+01,\n",
       "        1.26624892e+01, 1.42430650e+01, 1.58236409e+01, 1.74042167e+01,\n",
       "        1.89847926e+01, 2.05653684e+01, 2.21459443e+01, 2.37265201e+01,\n",
       "        2.53070959e+01, 2.68876718e+01, 2.84682476e+01, 3.00488235e+01,\n",
       "        3.16293993e+01, 3.32099751e+01, 3.47905510e+01, 3.63711268e+01,\n",
       "        3.79517027e+01, 3.95322785e+01, 4.11128543e+01, 4.26934302e+01,\n",
       "        4.42740060e+01, 4.58545819e+01, 4.74351577e+01, 4.90157336e+01,\n",
       "        5.05963094e+01, 5.21768852e+01, 5.37574611e+01, 5.53380369e+01,\n",
       "        5.69186128e+01, 5.84991886e+01, 6.00797644e+01, 6.16603403e+01,\n",
       "        6.32409161e+01, 6.48214920e+01, 6.64020678e+01, 6.79826436e+01,\n",
       "        6.95632195e+01, 7.11437953e+01, 7.27243712e+01, 7.43049470e+01,\n",
       "        7.58855229e+01, 7.74660987e+01, 7.90466745e+01]),\n",
       " <a list of 50 Patch objects>)"
      ]
     },
     "execution_count": 3,
     "metadata": {},
     "output_type": "execute_result"
    },
    {
     "data": {
      "image/png": "[encoded data removed]",
      "text/plain": [
       "<Figure size 432x288 with 1 Axes>"
      ]
     },
     "metadata": {
      "needs_background": "light"
     },
     "output_type": "display_data"
    }
   ],
   "source": [
    "n = 500\n",
    "x = rnd.exponential(scale=1/lam, size=n)\n",
    "x.mean()\n",
    "x.var()\n",
    "plt.hist(x, 50, density = True)"
   ]
  },
  {
   "cell_type": "markdown",
   "metadata": {},
   "source": [
    "Lorsque l'on désire des informations détaillées sur une fonction on\n",
    "tape\n"
   ]
  },
  {
   "cell_type": "code",
   "execution_count": 4,
   "metadata": {},
   "outputs": [],
   "source": [
    "?plt.hist"
   ]
  },
  {
   "cell_type": "markdown",
   "metadata": {},
   "source": [
    "On améliore le graphique ci-dessus en comparant l'histogramme avec la\n",
    "fonction densité."
   ]
  },
  {
   "cell_type": "code",
   "execution_count": 5,
   "metadata": {},
   "outputs": [
    {
     "data": {
      "text/plain": [
       "[<matplotlib.lines.Line2D at 0x1ff684bc198>]"
      ]
     },
     "execution_count": 5,
     "metadata": {},
     "output_type": "execute_result"
    },
    {
     "data": {
      "image/png": "[encoded data removed]",
      "text/plain": [
       "<Figure size 432x288 with 1 Axes>"
      ]
     },
     "metadata": {
      "needs_background": "light"
     },
     "output_type": "display_data"
    }
   ],
   "source": [
    "plt.hist(x, 50, density = True)\n",
    "tt=np.linspace(0.0, 50, 200)\n",
    "plt.plot(tt, lam*np.exp(-lam*tt))"
   ]
  },
  {
   "cell_type": "markdown",
   "metadata": {},
   "source": [
    "## Exercice\n",
    "En utilisant la structure de contrôle \n",
    "\n",
    "while True:\n",
    "\n",
    "> ...\n",
    "    \n",
    "> if cond:\n",
    "    \n",
    "> > break\n",
    "        \n",
    "\n",
    " coder une fonction \n",
    "\n",
    "\n",
    "\n",
    "> ...\n",
    "   \n",
    "\n",
    "\n"
   ]
  },
  {
   "cell_type": "code",
   "execution_count": 6,
   "metadata": {},
   "outputs": [
    {
     "data": {
      "text/plain": [
       "[0,\n",
       " 5.489921347917904,\n",
       " 18.182824397132684,\n",
       " 30.64179529753569,\n",
       " 36.79473780628506,\n",
       " 53.225846962095304,\n",
       " 54.83471398193674,\n",
       " 61.067971641650104,\n",
       " 62.98663776340068,\n",
       " 77.51377774430014,\n",
       " 86.68102402104958,\n",
       " 88.14361285505584,\n",
       " 99.24097389890593]"
      ]
     },
     "execution_count": 6,
     "metadata": {},
     "output_type": "execute_result"
    }
   ],
   "source": [
    "def spoi(lam,T):\n",
    "    sauts = [0]\n",
    "    C = (sauts[-1]<T)\n",
    "    while(C):\n",
    "        t = sauts[-1] + rnd.exponential(scale=1/lam)\n",
    "        if (t<T):\n",
    "            sauts.append(t)\n",
    "        else:\n",
    "            C = False\n",
    "    return(sauts)\n",
    "saut = spoi(0.1, 100)\n",
    "saut"
   ]
  },
  {
   "cell_type": "markdown",
   "metadata": {},
   "source": [
    "\n",
    " qui prend en paramètre $\\lambda$\n",
    "et $T$, et qui renvoie un vecteur des temps de saut du processus de\n",
    "Poisson sur l'intervalle $[0,T]$.\n"
   ]
  },
  {
   "cell_type": "markdown",
   "metadata": {},
   "source": [
    "On remarque que"
   ]
  },
  {
   "cell_type": "code",
   "execution_count": 7,
   "metadata": {
    "scrolled": true
   },
   "outputs": [
    {
     "data": {
      "text/plain": [
       "[<matplotlib.lines.Line2D at 0x1ff65363f98>]"
      ]
     },
     "execution_count": 7,
     "metadata": {},
     "output_type": "execute_result"
    },
    {
     "data": {
      "image/png": "[encoded data removed]",
      "text/plain": [
       "<Figure size 432x288 with 1 Axes>"
      ]
     },
     "metadata": {
      "needs_background": "light"
     },
     "output_type": "display_data"
    }
   ],
   "source": [
    "plt.plot(spoi(0.1,100))"
   ]
  },
  {
   "cell_type": "markdown",
   "metadata": {},
   "source": [
    "n'affiche ansolument pas ce que l'on veut mais la courbe inverse.  Réfléchissez bien et affichez la bonne courbe. \n",
    "\n",
    "Une solution est d'écrire\n"
   ]
  },
  {
   "cell_type": "code",
   "execution_count": 8,
   "metadata": {},
   "outputs": [
    {
     "data": {
      "text/plain": [
       "[<matplotlib.lines.Line2D at 0x1ff687ed828>]"
      ]
     },
     "execution_count": 8,
     "metadata": {},
     "output_type": "execute_result"
    },
    {
     "data": {
      "image/png": "[encoded data removed]",
      "text/plain": [
       "<Figure size 432x288 with 1 Axes>"
      ]
     },
     "metadata": {
      "needs_background": "light"
     },
     "output_type": "display_data"
    }
   ],
   "source": [
    "s = spoi(0.1, 100)\n",
    "plt.step(s, range(len(s)), where='mid')"
   ]
  },
  {
   "cell_type": "markdown",
   "metadata": {},
   "source": [
    "## Exercice\n",
    "Coder une seconde fonction sspoi qui a les mêmes\n",
    "paramètres, mais qui utilise la construction générale d'un processus\n",
    "de Poisson. Donc elle genère une variable $N$ de loi $Pois(\\lambda\n",
    "T)$ Puis elle génère $N$ uniformes sur $[0,T]$ qu'elle\n",
    "trie. Utiliser les \n",
    "commandes ,rnd.poisson,rnd.runif et x.sort() pour\n",
    "trier un tableau de valeurs. Et affichez également le processus\n",
    "obtenu.\n",
    "\n",
    "Pour être pleinement convaincu que cette seconde méthode génère bien\n",
    "un processus de Poisson classique, vous allez illustrer le fait que le\n",
    "premier temps de saut est une variable exponentielle de paramètre\n",
    "$\\lambda$ en générant $n=500$ telles variables et en traçant\n",
    "l'histogramme et la densité de la loi exponentielle."
   ]
  },
  {
   "cell_type": "code",
   "execution_count": 9,
   "metadata": {},
   "outputs": [
    {
     "data": {
      "text/plain": [
       "[<matplotlib.lines.Line2D at 0x1ff68852d68>]"
      ]
     },
     "execution_count": 9,
     "metadata": {},
     "output_type": "execute_result"
    },
    {
     "data": {
      "image/png": "[encoded data removed]",
      "text/plain": [
       "<Figure size 432x288 with 1 Axes>"
      ]
     },
     "metadata": {
      "needs_background": "light"
     },
     "output_type": "display_data"
    }
   ],
   "source": [
    "def sspoi(lam, T):\n",
    "    # N ~ P(𝜆T)\n",
    "    N = rnd.poisson(lam*T)\n",
    "    # N uniformes sur [0,T]\n",
    "    U = (rnd.uniform(0, T, N))\n",
    "    # Trie les N uniformes\n",
    "    U.sort()\n",
    "    return(U)\n",
    "\n",
    "s = sspoi(lam, 200)\n",
    "plt.step(s, range(len(s)), where='mid')"
   ]
  },
  {
   "cell_type": "markdown",
   "metadata": {},
   "source": [
    "Le premier temps de saut est bien une variable exponentielle de paramètre 𝜆, comme on peut l'observer ci-dessous."
   ]
  },
  {
   "cell_type": "code",
   "execution_count": 10,
   "metadata": {},
   "outputs": [
    {
     "data": {
      "text/plain": [
       "[<matplotlib.lines.Line2D at 0x1ff6888aac8>]"
      ]
     },
     "execution_count": 10,
     "metadata": {},
     "output_type": "execute_result"
    },
    {
     "data": {
      "image/png": "[encoded data removed]",
      "text/plain": [
       "<Figure size 432x288 with 1 Axes>"
      ]
     },
     "metadata": {
      "needs_background": "light"
     },
     "output_type": "display_data"
    }
   ],
   "source": [
    "T = 1000\n",
    "prem_saut = [sspoi(lam, T)[0] for i in range(500)]\n",
    "\n",
    "plt.hist(prem_saut, 50, density = True)\n",
    "tt = np.linspace(0.0, 50, 500)\n",
    "plt.plot(tt, lam*np.exp(-lam*tt))"
   ]
  },
  {
   "cell_type": "markdown",
   "metadata": {},
   "source": [
    " ## Le paradoxe de l'autobus\n",
    " Dans un premier temps on suppose que l'on arrive à $t=15h00=15*60$\n",
    "minutes et que l'on désire déterminer les valeurs moyennes de l'âge\n",
    "$A_t=t-S_{N_t}$ et du temps de vie résiduel $R_t = S_{1+N(t)}-t$, qui\n",
    "sont respectivement l'intervalle depuis le passage du dernier bus et\n",
    "le temps d'attente du prochain bus.\n",
    "\n",
    "On écrit donc une fonction _attente_ qui prend en paramètres\n",
    "$\\lambda$ et $t$ et revoie le couple de valeurs $A_t,R_t$.\n",
    "\n",
    "def attente(lam,t):\n",
    ">...\n",
    "\n",
    ">return ((at,rt))\n"
   ]
  },
  {
   "cell_type": "code",
   "execution_count": 11,
   "metadata": {
    "scrolled": true
   },
   "outputs": [
    {
     "data": {
      "text/plain": [
       "(4.45729496003753, 6.970542829307647)"
      ]
     },
     "execution_count": 11,
     "metadata": {},
     "output_type": "execute_result"
    }
   ],
   "source": [
    "def attente(lam, t):\n",
    "    T = 1440 #24heures\n",
    "    s = sspoi(lam, T)\n",
    "    j = 0\n",
    "    while(s[j]<t):\n",
    "        j += 1\n",
    "    j = j-1\n",
    "    At = t-s[j]\n",
    "    Rt = s[j+1]-t\n",
    "    return(At, Rt)\n",
    "\n",
    "attente(0.1, 900)"
   ]
  },
  {
   "cell_type": "markdown",
   "metadata": {},
   "source": [
    "Puis on utilise"
   ]
  },
  {
   "cell_type": "code",
   "execution_count": 12,
   "metadata": {},
   "outputs": [
    {
     "data": {
      "text/plain": [
       "array([[ 0.87940964,  6.3558353 ],\n",
       "       [ 7.84914128, 11.84380569],\n",
       "       [ 5.77959403,  0.40925749],\n",
       "       ...,\n",
       "       [10.99158269, 13.71915997],\n",
       "       [12.46087897, 11.62097217],\n",
       "       [22.55661566,  3.27209372]])"
      ]
     },
     "execution_count": 12,
     "metadata": {},
     "output_type": "execute_result"
    }
   ],
   "source": [
    "lam = 0.1\n",
    "t = 900\n",
    "res = np.array([attente(lam,t) for i in range(1000)])\n",
    "res"
   ]
  },
  {
   "cell_type": "markdown",
   "metadata": {},
   "source": [
    "qui fabrique un vecteur contenant 1000 réplications (i.e. les valeurs\n",
    "de 1000 appels successifs de la fonction) et on les place dans une\n",
    "matrice, en calculant la moyenne des lignes ce qui par la loi des\n",
    "grands nombres donne des estimations des moyennes recherchées\n",
    " "
   ]
  },
  {
   "cell_type": "code",
   "execution_count": 13,
   "metadata": {},
   "outputs": [
    {
     "name": "stdout",
     "output_type": "stream",
     "text": [
      "[[ 0.87940964  6.3558353   7.84914128 ... 17.28960044 32.95328044\n",
      "  22.72032388]\n",
      " [13.60696592  2.8767035  10.7796063  ... 11.62097217 22.55661566\n",
      "   3.27209372]]\n"
     ]
    },
    {
     "data": {
      "text/plain": [
       "array([ 9.33486007, 10.1369419 ])"
      ]
     },
     "execution_count": 13,
     "metadata": {},
     "output_type": "execute_result"
    }
   ],
   "source": [
    "m = res.reshape(2, 1000)\n",
    "print(m)\n",
    "m.mean(axis = 1)"
   ]
  },
  {
   "cell_type": "markdown",
   "metadata": {},
   "source": [
    "## Exercice\n",
    "Pour illustrer l'indépendance par rapport à l'instant d'arrivée, faire\n",
    "les mêmes calculs en tirant cette fois au hasard votre temps d'arrivée\n",
    "à l'arrêt,  en utilisant par exemple une loi uniforme sur 15h, 15h15."
   ]
  },
  {
   "cell_type": "code",
   "execution_count": 14,
   "metadata": {},
   "outputs": [
    {
     "name": "stdout",
     "output_type": "stream",
     "text": [
      "[[ 9.60097293e+01 -1.20847615e+00 -5.24905690e-02]\n",
      " [-1.20847615e+00  1.02346032e+02  2.19477657e-01]\n",
      " [-5.24905690e-02  2.19477657e-01  1.91215712e+01]]\n"
     ]
    }
   ],
   "source": [
    "# On tire au hasard le temps d'arrivée à l'arrêt avec une loi uniforme sur 15h - 15h15\n",
    "t = [rnd.uniform(900, 915) for i in range(1000)]\n",
    "res = np.array([attente(lam,i) for i in t])\n",
    "m = res.reshape(2, 1000)\n",
    "moy = m.mean(axis = 1)\n",
    "\n",
    "# On affiche cov((At, Rt), t) pour illustrer l'indépendance (ie cov(At, t) et cov(Rt, t) proche de 0)\n",
    "print(np.cov(m, np.transpose(t), bias= True))"
   ]
  },
  {
   "cell_type": "markdown",
   "metadata": {},
   "source": [
    "Vérifier vos simulations  en utilisant le calcul matriciel. Sous Python, le produit matriciel des matrices p et q s'écrit np.dot(p,q) ce qui est très différent de $p*q$. Ecrivez une fonction puis(p,n) qui renvoie la matrice $p^n$. (Vous pouvez utiliser un algorithme de calcul rapide de\n",
    "puissance si vous savez le coder)."
   ]
  },
  {
   "cell_type": "code",
   "execution_count": 18,
   "metadata": {},
   "outputs": [],
   "source": [
    "def puis(p, n):\n",
    "    for i in range(n):\n",
    "        p = np.dot(p, p)\n",
    "    return(p)"
   ]
  },
  {
   "cell_type": "markdown",
   "metadata": {},
   "source": [
    "## Taille optimale d'un buffer\n",
    "\n",
    "On fixe les valeurs du coût de vidage  $K=100$ euros  et $\\lambda=1$,\n",
    "i.e. on a un message en moyenne par unité de temps. En faisant varier le\n",
    "coût unitaire $h$ de stockage d'un message (valeurs $0.1,1,10 $ ou $100$),\n",
    "calculer le coût moyen par cycle en effectuant un grand nombre (n=500)\n",
    "de cycles, et ce pour suffisamment de valeurs de $T$ pour identifier\n",
    "la valeur optimale.\n",
    "\n",
    "On pourra écrire d'abord une fonction\n",
    "\n"
   ]
  },
  {
   "cell_type": "markdown",
   "metadata": {},
   "source": [
    "$\\tau_{t} = \\frac{1}{T} (h {\\sum \\limits_{i=1}^{N(t)} (T - t_{i})} + K)$\n",
    "$\\tau_{t}$ est le coût unitaire observé pour la réalisation d'un cycle."
   ]
  },
  {
   "cell_type": "code",
   "execution_count": 15,
   "metadata": {},
   "outputs": [
    {
     "name": "stdout",
     "output_type": "stream",
     "text": [
      "6.0949532729719245\n"
     ]
    }
   ],
   "source": [
    "def coutcycle(T,h,K,lam):\n",
    "    A = sspoi(lam, T)\n",
    "    diff = []\n",
    "    for i in range(len(A)):\n",
    "        diff.append(T-A[i])\n",
    "    tau = (h*sum(diff) + K)/T\n",
    "    return(tau)\n",
    "\n",
    "h = 0.1\n",
    "K = 100\n",
    "lam = 1\n",
    "T = 100\n",
    "\n",
    "c = coutcycle(T, h, K, lam)\n",
    "print(c)"
   ]
  },
  {
   "cell_type": "markdown",
   "metadata": {
    "collapsed": true
   },
   "source": [
    "qui calcule le coût unitaire observé pour la réalisation d'un cycle. \n",
    "\n",
    "Commandes Python : np.linspace pour construire un vecteurs de valeurs\n",
    "uniformément réparties\n",
    "\n",
    "\n",
    "Ensuite il faut une fonction qui donne le coût moyen estime par la loi\n",
    "forte des grands nombres\n",
    "\n",
    "\n",
    "\n"
   ]
  },
  {
   "cell_type": "code",
   "execution_count": 16,
   "metadata": {},
   "outputs": [
    {
     "name": "stdout",
     "output_type": "stream",
     "text": [
      "5.947387816489652\n"
     ]
    }
   ],
   "source": [
    "def coutmoyemp(T,h,K,lam,n):\n",
    "    X = 0\n",
    "    for i in range(n):\n",
    "        X += coutcycle(T,h,K,lam)\n",
    "    X = (1/n)*X\n",
    "    return(X)\n",
    "   \n",
    "n= 500\n",
    "c_moy = coutmoyemp(100, h, K, lam, n)\n",
    "print(c_moy)"
   ]
  },
  {
   "cell_type": "markdown",
   "metadata": {},
   "source": [
    "\n",
    "Puis on tracera, au moins pour une valeur de $h$, la courbe qui donne\n",
    "le coût moyen estimé en fonction de $T$. Et la on vérifiera que la\n",
    "valeur $T^*$ calculée en TD est bien optimale."
   ]
  },
  {
   "cell_type": "code",
   "execution_count": 17,
   "metadata": {},
   "outputs": [
    {
     "name": "stdout",
     "output_type": "stream",
     "text": [
      "44.721359549995796\n"
     ]
    },
    {
     "data": {
      "image/png": "[encoded data removed]",
      "text/plain": [
       "<Figure size 432x288 with 1 Axes>"
      ]
     },
     "metadata": {
      "needs_background": "light"
     },
     "output_type": "display_data"
    }
   ],
   "source": [
    "fig, ax = plt.subplots(1, 1)\n",
    "\n",
    "Tstar = np.sqrt(2*K/(lam*h))\n",
    "print(Tstar)\n",
    "\n",
    "T = np.linspace(Tstar/2, Tstar+(Tstar/2), n)\n",
    "\n",
    "def y(T, h, K, lam, n):\n",
    "    B = []\n",
    "    for i in range(n):\n",
    "        B.append(coutmoyemp(T[i], h, K, lam, n))\n",
    "    return(B)\n",
    "    \n",
    "ax.plot(T, y(T, h, K, lam, n), label = \"Coût moyen estimé en fonction de T\")\n",
    "ax.legend(loc='best', frameon=False)\n",
    "plt.xlabel('T (min)')\n",
    "plt.ylabel('Coût moyen (€)')\n",
    "plt.show()"
   ]
  },
  {
   "cell_type": "markdown",
   "metadata": {
    "collapsed": true
   },
   "source": [
    "On vérifie bien sur le graphe ci-dessus que $T^* = \\sqrt{\\frac{2K}{h\\lambda}}$ est optimal car c'est là que le coût moyen est optimal."
   ]
  }
 ],
 "metadata": {
  "kernelspec": {
   "display_name": "Python 3",
   "language": "python",
   "name": "python3"
  },
  "language_info": {
   "codemirror_mode": {
    "name": "ipython",
    "version": 3
   },
   "file_extension": ".py",
   "mimetype": "text/x-python",
   "name": "python",
   "nbconvert_exporter": "python",
   "pygments_lexer": "ipython3",
   "version": "3.7.7"
  }
 },
 "nbformat": 4,
 "nbformat_minor": 1
}

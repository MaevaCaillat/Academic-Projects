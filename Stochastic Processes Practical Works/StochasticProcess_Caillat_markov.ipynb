{
 "cells": [
  {
   "cell_type": "markdown",
   "metadata": {},
   "source": [
    "\n",
    "\n",
    "# Introduction aux Processus Stochastiques (PRSTO)\n",
    "*P. Carmona*\n",
    "\n",
    "Pour avancer dans le notebook et exécuter les cellules il faut taper Shift+Enter ou utiliser la barre d'outils ci-dessus et choisir Cell, Run Cell and select Below\n",
    "\n",
    "## Consignes\n",
    "\n",
    "Vous répondrez aux  questions en modifiant ce notebook. En insérant des cellules de type Markdown pour le texte et des cellules de type code pour le code. \n",
    "\n",
    "Ensuite vous sauvez ce notebook sous le nom Prenom_Nom_tpmarkov.ipynb et vous le déposez sur Moodle"
   ]
  },
  {
   "cell_type": "markdown",
   "metadata": {},
   "source": [
    "## Simulation d'une chaîne de Markov\n",
    "\n",
    "Le langage Python dispose d'une fonction pour simuler suivant une loi discrète *rnd.choice*\n",
    "On dispose d'une matrice de transition, par exemple celle modélisant le climat à Los Angeles.\n"
   ]
  },
  {
   "cell_type": "code",
   "execution_count": 1,
   "metadata": {},
   "outputs": [
    {
     "data": {
      "text/plain": [
       "1"
      ]
     },
     "execution_count": 1,
     "metadata": {},
     "output_type": "execute_result"
    }
   ],
   "source": [
    "import numpy as np\n",
    "import matplotlib.pyplot as plt\n",
    "import numpy.random as rnd\n",
    "from scipy.linalg import eig\n",
    "%matplotlib inline\n",
    "\n",
    "pla=np.array([[0.5,0.5],[0.1,0.9]])\n",
    "pla\n",
    "rnd.choice(a=2,p=pla[0])"
   ]
  },
  {
   "cell_type": "markdown",
   "metadata": {},
   "source": [
    "On va simuler une chaîne de Markov de matrice de transition pla et issue de $2$.\n",
    "\n",
    "De façon plus générale, le vecteur $x$ contiendra les n premières valeurs simulées d'une chaîne de Markov issue de 2."
   ]
  },
  {
   "cell_type": "code",
   "execution_count": 2,
   "metadata": {},
   "outputs": [
    {
     "data": {
      "text/plain": [
       "array([1, 1, 1, 1, 1, 0, 0, 1, 1, 1, 1, 1, 1, 1, 1, 0, 0, 0, 1, 1, 1, 1,\n",
       "       1, 1, 0, 0, 0, 1, 1, 1, 1, 1, 1, 1, 1, 1, 1, 1, 0, 1, 1, 1, 1, 1,\n",
       "       0, 0, 1, 1, 1, 1])"
      ]
     },
     "execution_count": 2,
     "metadata": {},
     "output_type": "execute_result"
    }
   ],
   "source": [
    "n = 50\n",
    "x = np.arange(n)\n",
    "x[0] =1\n",
    "dim=len(pla[0])\n",
    "for i in np.arange(1,n):\n",
    "    x[i]=rnd.choice(a=dim,p=pla[x[i-1]])\n",
    "\n",
    "x"
   ]
  },
  {
   "cell_type": "markdown",
   "metadata": {},
   "source": [
    "Ecrire une fonction \n",
    "  genmarkov(x,n,p) \n",
    "qui simule une chaîne de markov de matrice de transition p issue de $x$ et qui renvoie la valeur $X_{n-1}(\\omega)$. On écrira également la fonction vgenmarkov qui elle renvoie le vecteur des valeurs $(X_0(\\omega), ..., X_{n-1}(\\omega))$.\n"
   ]
  },
  {
   "cell_type": "code",
   "execution_count": 3,
   "metadata": {},
   "outputs": [
    {
     "data": {
      "text/plain": [
       "array([1, 1, 1, 1, 1, 1, 1, 1, 1, 1, 1, 1, 1, 1, 1, 1, 1, 1, 0, 1, 1, 0,\n",
       "       1, 1, 1, 1, 1, 1, 1, 1, 1, 1, 1, 1, 1, 1, 1, 1, 1, 1, 1, 0, 0, 0,\n",
       "       1, 0, 0, 0, 0, 0])"
      ]
     },
     "execution_count": 3,
     "metadata": {},
     "output_type": "execute_result"
    }
   ],
   "source": [
    "def genmarkov(x, n, p):\n",
    "    dim = len(p[0])\n",
    "    y = np.arange(n)\n",
    "    y[0] = x\n",
    "    for i in range(1,n):\n",
    "        y[i] = rnd.choice(a = dim, p = p[y[i-1]])\n",
    "    return(y[-1])\n",
    "\n",
    "#genmarkov(1, n, pla)\n",
    "\n",
    "def vgenmarkov(x,n,p):\n",
    "    dim = len(p[0])\n",
    "    y = np.arange(n)\n",
    "    y[0] = x\n",
    "    for i in range(1,n):\n",
    "        y[i] = rnd.choice(a = dim, p = p[y[i-1]])\n",
    "    return(y)\n",
    "\n",
    "vgenmarkov(1, n, pla)"
   ]
  },
  {
   "cell_type": "markdown",
   "metadata": {},
   "source": [
    "Pour le climat à Los Angeles, vérifiez que  la proportion de temps\n",
    "passé dans chaque état converge vers un nombre qui ne dépend que de\n",
    "cet état et pas du point de départ."
   ]
  },
  {
   "cell_type": "code",
   "execution_count": 4,
   "metadata": {},
   "outputs": [
    {
     "name": "stdout",
     "output_type": "stream",
     "text": [
      "[False False False ... False False False]\n",
      "830\n",
      "0.166\n",
      "[  0   0   0 ... 830 830 830]\n",
      "[0.         0.         0.         ... 0.16606643 0.16603321 0.166     ]\n"
     ]
    }
   ],
   "source": [
    "n=5000\n",
    "z=vgenmarkov(1,n,pla)\n",
    "print(z==0) #donne un vecteur de booleen\n",
    "print((z==0).sum()) #donne le nombre de fois ou l'on est passe dans l'etat 0\n",
    "print((z==0).mean()) #donne la moyenne empirique\n",
    "print((z==0).cumsum()) #donne le vecteur des sommes cumulees\n",
    "y=(z==0).cumsum()/np.arange(1,len(z)+1) #donne le vecteur des moyennes de 0\n",
    "print(y)"
   ]
  },
  {
   "cell_type": "code",
   "execution_count": 5,
   "metadata": {
    "scrolled": true
   },
   "outputs": [
    {
     "data": {
      "text/plain": [
       "[<matplotlib.lines.Line2D at 0x2700f2a9c88>]"
      ]
     },
     "execution_count": 5,
     "metadata": {},
     "output_type": "execute_result"
    },
    {
     "data": {
      "image/png": "[encoded data removed]",
      "text/plain": [
       "<Figure size 432x288 with 1 Axes>"
      ]
     },
     "metadata": {
      "needs_background": "light"
     },
     "output_type": "display_data"
    }
   ],
   "source": [
    "plt.plot(y)\n",
    "plt.plot([1/6 for i in range(n)])"
   ]
  },
  {
   "cell_type": "code",
   "execution_count": 6,
   "metadata": {},
   "outputs": [
    {
     "data": {
      "text/plain": [
       "[<matplotlib.lines.Line2D at 0x270125e6cf8>]"
      ]
     },
     "execution_count": 6,
     "metadata": {},
     "output_type": "execute_result"
    },
    {
     "data": {
      "image/png": "[encoded data removed]",
      "text/plain": [
       "<Figure size 432x288 with 1 Axes>"
      ]
     },
     "metadata": {
      "needs_background": "light"
     },
     "output_type": "display_data"
    }
   ],
   "source": [
    "#on change le point de départ\n",
    "n = 5000\n",
    "z = vgenmarkov(0,n,pla)\n",
    "y = (z==0).cumsum()/np.arange(1,len(z)+1) #donne le vecteur des moyennes de 0\n",
    "plt.plot(y)\n",
    "plt.plot([1/6 for i in range(n)])"
   ]
  },
  {
   "cell_type": "markdown",
   "metadata": {},
   "source": [
    "On observe bien la convergence vers $1/6$ dans les deux cas."
   ]
  },
  {
   "cell_type": "markdown",
   "metadata": {},
   "source": [
    " Ce résultat est-il encore vrai\n",
    "pour les matrices p3 et p4 ci dessous ? Pouvez vous expliquer pourquoi ? "
   ]
  },
  {
   "cell_type": "markdown",
   "metadata": {},
   "source": [
    "<font color='blue'>\n",
    "Ce résultat est encore vrai pour p3 mais pas pour p4 car celle-ci n'est pas irréductible. Par exemple, si on part de l'état 3 dans p4, on reste bloqué à cet état.\n",
    "</font>"
   ]
  },
  {
   "cell_type": "code",
   "execution_count": 7,
   "metadata": {},
   "outputs": [
    {
     "data": {
      "text/plain": [
       "[<matplotlib.lines.Line2D at 0x27012690dd8>]"
      ]
     },
     "execution_count": 7,
     "metadata": {},
     "output_type": "execute_result"
    },
    {
     "data": {
      "image/png": "[encoded data removed]",
      "text/plain": [
       "<Figure size 432x288 with 1 Axes>"
      ]
     },
     "metadata": {
      "needs_background": "light"
     },
     "output_type": "display_data"
    }
   ],
   "source": [
    "p3 = np.array([[7/20,3/20,1/4,1/4],[3/10,1/4,7/20,1/10],[1/4,1/4,7/20,3/20],[3/10,1/4,1/4,1/5]])\n",
    "\n",
    "z03 = vgenmarkov(0,n,p3)\n",
    "y03 = (z03 == 0).cumsum()/np.arange(1,len(z03)+1) #donne le vecteur des moyennes de 0\n",
    "plt.plot(y03,'r')\n",
    "\n",
    "z13 = vgenmarkov(1,n,p3)\n",
    "y13 = (z13 == 0).cumsum()/np.arange(1,len(z13)+1) #donne le vecteur des moyennes de 0\n",
    "plt.plot(y13,'g')\n",
    "\n",
    "z23 = vgenmarkov(2,n,p3)\n",
    "y23 = (z23 == 0).cumsum()/np.arange(1,len(z23)+1) #donne le vecteur des moyennes de 0\n",
    "plt.plot(y23,'b')\n",
    "\n",
    "z33 = vgenmarkov(3,n,p3)\n",
    "y33 = (z33 == 0).cumsum()/np.arange(1,len(z33)+1) #donne le vecteur des moyennes de 0\n",
    "plt.plot(y33,'y')"
   ]
  },
  {
   "cell_type": "code",
   "execution_count": 8,
   "metadata": {},
   "outputs": [
    {
     "data": {
      "text/plain": [
       "[<matplotlib.lines.Line2D at 0x270126f8e80>]"
      ]
     },
     "execution_count": 8,
     "metadata": {},
     "output_type": "execute_result"
    },
    {
     "data": {
      "image/png": "[encoded data removed]",
      "text/plain": [
       "<Figure size 432x288 with 1 Axes>"
      ]
     },
     "metadata": {
      "needs_background": "light"
     },
     "output_type": "display_data"
    }
   ],
   "source": [
    "p4 = np.array([[1/2,0,0,0,1/2],[0,1/2,0,1/2,0],[0,0,1,0,0],[0,1/4,1/4,1/4,1/4],[1/2,0,0,0,1/2]])\n",
    "\n",
    "z04 = vgenmarkov(0,n,p4)\n",
    "y04 = (z04 == 0).cumsum()/np.arange(1,len(z04)+1) #donne le vecteur des moyennes de 0\n",
    "plt.plot(y04,'y')\n",
    "\n",
    "z14 = vgenmarkov(1,n,p4)\n",
    "y14 = (z14 == 0).cumsum()/np.arange(1,len(z14)+1) #donne le vecteur des moyennes de 0\n",
    "plt.plot(y14,'g')\n",
    "\n",
    "z24 = vgenmarkov(2,n,p4)\n",
    "y24 = (z24 == 0).cumsum()/np.arange(1,len(z24)+1) #donne le vecteur des moyennes de 0\n",
    "plt.plot(y24,'b')\n",
    "\n",
    "z34 = vgenmarkov(3,n,p4)\n",
    "y34 = (z34 == 0).cumsum()/np.arange(1,len(z34)+1) #donne le vecteur des moyennes de 0\n",
    "plt.plot(y34,'r')"
   ]
  },
  {
   "cell_type": "markdown",
   "metadata": {},
   "source": [
    "## Calcul des probabilités de transition\n",
    "On utilise également la  matrice de  transition $p=pt$ suivante\n",
    " \n",
    "\n",
    " "
   ]
  },
  {
   "cell_type": "code",
   "execution_count": 9,
   "metadata": {},
   "outputs": [
    {
     "data": {
      "text/plain": [
       "array([[0.5, 0. , 0.5, 0. ],\n",
       "       [0. , 1. , 0. , 0. ],\n",
       "       [0.5, 0. , 0. , 0.5],\n",
       "       [0. , 0.5, 0. , 0.5]])"
      ]
     },
     "execution_count": 9,
     "metadata": {},
     "output_type": "execute_result"
    }
   ],
   "source": [
    "pt = np.array([[1/2,0,1/2,0],[0,1,0,0],[1/2,0,0,1/2],[0,1/2,0,1/2]])\n",
    "pt"
   ]
  },
  {
   "cell_type": "markdown",
   "metadata": {},
   "source": [
    "Utiliser la loi forte des grands nombres pour calculer, pour la matrice pt des valeurs approchées de $p^{(n)}_{2,3}, p^{(n)}_{3,3}, p^{(n)}_{1,4}$ pour les valeurs de n suivantes $n=2,5,10, 20$. Par exemple, vous faites N=1000 (ou N=10000, ou N=50000) simulations de la chaîne de Markov issue de 2, puis vous comptez la proportion de fois où vous observez la valeur $3$"
   ]
  },
  {
   "cell_type": "code",
   "execution_count": 10,
   "metadata": {},
   "outputs": [
    {
     "name": "stdout",
     "output_type": "stream",
     "text": [
      "Pour la matrice pt :\n",
      "Pour n = 2: p23 = 0.0, p33 = 0.0, p14 = 0.0\n",
      "Pour n = 5: p23 = 0.0, p33 = 0.1292, p14 = 0.2488\n",
      "Pour n = 10: p23 = 0.0, p33 = 0.0404, p14 = 0.11\n",
      "Pour n = 20: p23 = 0.0, p33 = 0.0048, p14 = 0.0132\n"
     ]
    }
   ],
   "source": [
    "N = 10000\n",
    "\n",
    "def p_xy_emp(x,n,p,y,N):\n",
    "    c = 0\n",
    "    for i in range(N):\n",
    "        etat = genmarkov(x,n,p)\n",
    "        if(etat == y):\n",
    "            c += 1\n",
    "    X_barre = c/N\n",
    "    return(X_barre)\n",
    "\n",
    "print(\"Pour la matrice pt :\")\n",
    "for n in [2,5,10,20]:\n",
    "    print(\"Pour n = \" + str(n) + \": p23 = \" + str(p_xy_emp(1,n,pt,2,N)) \n",
    "          + \", p33 = \" + str(p_xy_emp(2,n,pt,2,N)) + \", p14 = \" + str(p_xy_emp(0,n,pt,3,N)))"
   ]
  },
  {
   "cell_type": "markdown",
   "metadata": {},
   "source": [
    "Vérifier vos simulations  en utilisant le calcul matriciel. Sous Python, le produit matriciel des matrices p et q s'écrit np.dot(p,q) ce qui est très différent de $p*q$. Ecrivez une fonction puis(p,n) qui renvoie la matrice $p^n$. (Vous pouvez utiliser un algorithme de calcul rapide de\n",
    "puissance si vous savez le coder)."
   ]
  },
  {
   "cell_type": "code",
   "execution_count": 11,
   "metadata": {
    "scrolled": true
   },
   "outputs": [
    {
     "name": "stdout",
     "output_type": "stream",
     "text": [
      "Pour la matrice pt :\n",
      "Pour n = 2: p23 = 0.0, p33 = 0.25, p14 = 0.25\n",
      "Pour n = 5: p23 = 0.0, p33 = 0.09375, p14 = 0.21875\n",
      "Pour n = 10: p23 = 0.0, p33 = 0.033203125, p14 = 0.0859375\n",
      "Pour n = 20: p23 = 0.0, p33 = 0.003987312316894531, p14 = 0.010437965393066406\n"
     ]
    }
   ],
   "source": [
    "def puis(x,n,p,y):\n",
    "    N = len(p)\n",
    "    A = np.zeros(N)\n",
    "    A[x] = 1\n",
    "    return np.dot(np.transpose(A), np.linalg.matrix_power(p,n))[y]\n",
    "\n",
    "print(\"Pour la matrice pt :\")\n",
    "for n in [2,5,10,20]:\n",
    "    print(\"Pour n = \" + str(n) + \": p23 = \" + str(puis(1,n,pt,2)) \n",
    "          + \", p33 = \" + str(puis(2,n,pt,2)) + \", p14 = \" + str(puis(0,n,pt,3)))"
   ]
  },
  {
   "cell_type": "markdown",
   "metadata": {},
   "source": [
    "## Calcul de probabilités et de temps d'absorption\n",
    "Premièrement, en utilisant la structure de classes, décrire les 3\n",
    "comportements asymptotiques possibles pour la chaîne de Markov de\n",
    "matrice de transition\n",
    "\n"
   ]
  },
  {
   "cell_type": "code",
   "execution_count": 12,
   "metadata": {
    "scrolled": true
   },
   "outputs": [
    {
     "data": {
      "text/plain": [
       "array([[1.  , 0.  , 0.  , 0.  , 0.  ],\n",
       "       [0.  , 1.  , 0.  , 0.  , 0.  ],\n",
       "       [0.15, 0.1 , 0.3 , 0.2 , 0.25],\n",
       "       [0.2 , 0.15, 0.15, 0.35, 0.15],\n",
       "       [0.  , 0.  , 0.  , 0.  , 1.  ]])"
      ]
     },
     "execution_count": 12,
     "metadata": {},
     "output_type": "execute_result"
    }
   ],
   "source": [
    "p = np.array([[1,0,0,0,0],[0,1,0,0,0],[3/20,1/10,3/10,1/5,1/4],[1/5,3/20,3/20,7/20,3/20],[0,0,0,0,1]])\n",
    "p"
   ]
  },
  {
   "cell_type": "markdown",
   "metadata": {},
   "source": [
    "<font color='blue'>\n",
    "Les 3 comportements asymptotiques possibles sont la stationnarité en {1}, {2} et {5} car ce sont des états fermés et que la probabilité d'atteindre ces états depuis la classe ouverte {3,4} est non nulle.\n",
    "</font>"
   ]
  },
  {
   "cell_type": "markdown",
   "metadata": {},
   "source": [
    "En utilisant la loi forte des grands nombres, calculer une valeur approchée de la probabilité que la chaîne de Markov, issue de 4, réussisse à atteindre l'état 2.\n"
   ]
  },
  {
   "cell_type": "markdown",
   "metadata": {},
   "source": [
    "<font color='blue'>\n",
    "La probabilité que la chaîne de Markov issue de 4 réussisse à atteindre l'état 2 est d'environ 0.282.\n",
    "</font>"
   ]
  },
  {
   "cell_type": "code",
   "execution_count": 13,
   "metadata": {
    "scrolled": true
   },
   "outputs": [
    {
     "name": "stdout",
     "output_type": "stream",
     "text": [
      "0.2851\n",
      "0.28235294093698765\n"
     ]
    }
   ],
   "source": [
    "n = 30\n",
    "N = 10000\n",
    "\n",
    "p42_emp = p_xy_emp(3,n,p,1,N)\n",
    "print(p42_emp)\n",
    "\n",
    "p42_theo = puis(3,n,p,1)\n",
    "print(p42_theo)"
   ]
  },
  {
   "cell_type": "markdown",
   "metadata": {},
   "source": [
    "Essayons maintenant de répondre à la même question en utilisant le\n",
    "calcul matriciel.  Ecrire la matrice de la chaîne absorbee $\\tilde{P}$\n",
    "sous la forme canonique \n",
    "$$\\tilde{P}=\n",
    "\\begin{pmatrix}\n",
    "  Q & R \\\\ 0 & I\n",
    "\\end{pmatrix}\n",
    "$$\n",
    "Puis utiliser la fonction  np.linalg.inv pour calculer\n",
    "$N=(I-Q)^{-1}$ et enfin retrouver le calcul précédent de la\n",
    "probabilité d'absorption en 2 lorsque l'on part de 4."
   ]
  },
  {
   "cell_type": "code",
   "execution_count": 14,
   "metadata": {
    "scrolled": true
   },
   "outputs": [
    {
     "name": "stdout",
     "output_type": "stream",
     "text": [
      "0.2823529411764706\n"
     ]
    }
   ],
   "source": [
    "Ptilde = [[0.3,0.2,0.15,0.1,0.25],[0.15,0.35,0.2,0.15,0.15],[0,0,1,0,0],[0,0,0,1,0],[0,0,0,0,1]]\n",
    "Q = [[0.3,0.2],[0.15,0.35]]\n",
    "I = np.identity(2)\n",
    "R = [[0.15,0.1,0.25],[0.2,0.15,0.15]]\n",
    "N = np.linalg.inv(I-Q)\n",
    "N\n",
    "# les lignes de B sont les états desquels on part, soit 3 et 4\n",
    "# les colonnes sont les états absorbants soit 1,2 et 5\n",
    "B = np.dot(N,R)\n",
    "p42_mat = B[1,1]\n",
    "print(p42_mat)"
   ]
  },
  {
   "cell_type": "markdown",
   "metadata": {},
   "source": [
    "<font color='blue'>\n",
    "La probabilité d'absorption en 2 quand on part de 4 est bien de 0.282.\n",
    "</font>"
   ]
  },
  {
   "cell_type": "markdown",
   "metadata": {},
   "source": [
    "## Détermination de probabilités invariantes\n",
    "On peut chercher les valeurs et vecteurs propres de la matrice pla"
   ]
  },
  {
   "cell_type": "code",
   "execution_count": 15,
   "metadata": {},
   "outputs": [
    {
     "data": {
      "text/plain": [
       "(array([0.4, 1. ]), array([[-0.98058068, -0.70710678],\n",
       "        [ 0.19611614, -0.70710678]]))"
      ]
     },
     "execution_count": 15,
     "metadata": {},
     "output_type": "execute_result"
    }
   ],
   "source": [
    "np.linalg.eig(pla)"
   ]
  },
  {
   "cell_type": "markdown",
   "metadata": {},
   "source": [
    "N'oublions pas que le vecteur $\\mathbf{1}$ dont toutes les coordonnées sont des $1$ est un vecteur propre avec la valeur propre 1.\n",
    "Ici nous cherchons une probabilité invariante, i.e. un vecteur propre à gauche. Il faut donc déterminer le spectre de la transposée"
   ]
  },
  {
   "cell_type": "code",
   "execution_count": 16,
   "metadata": {},
   "outputs": [],
   "source": [
    "v,w = np.linalg.eig(pla.T)"
   ]
  },
  {
   "cell_type": "code",
   "execution_count": 17,
   "metadata": {},
   "outputs": [
    {
     "data": {
      "text/plain": [
       "array([0.4, 1. ])"
      ]
     },
     "execution_count": 17,
     "metadata": {},
     "output_type": "execute_result"
    }
   ],
   "source": [
    "v"
   ]
  },
  {
   "cell_type": "code",
   "execution_count": 18,
   "metadata": {},
   "outputs": [
    {
     "data": {
      "text/plain": [
       "array([[-0.70710678, -0.19611614],\n",
       "       [ 0.70710678, -0.98058068]])"
      ]
     },
     "execution_count": 18,
     "metadata": {},
     "output_type": "execute_result"
    }
   ],
   "source": [
    "w"
   ]
  },
  {
   "cell_type": "markdown",
   "metadata": {},
   "source": [
    "Il faut faire attention lorsque l'on compare des valeurs numériques"
   ]
  },
  {
   "cell_type": "code",
   "execution_count": 19,
   "metadata": {},
   "outputs": [
    {
     "data": {
      "text/plain": [
       "False"
      ]
     },
     "execution_count": 19,
     "metadata": {},
     "output_type": "execute_result"
    }
   ],
   "source": [
    "np.sqrt(2)*np.sqrt(2) == 2.0\n"
   ]
  },
  {
   "cell_type": "markdown",
   "metadata": {},
   "source": [
    "Pour comparer, à la précision de la machine utilisée,"
   ]
  },
  {
   "cell_type": "code",
   "execution_count": 20,
   "metadata": {},
   "outputs": [
    {
     "data": {
      "text/plain": [
       "True"
      ]
     },
     "execution_count": 20,
     "metadata": {},
     "output_type": "execute_result"
    }
   ],
   "source": [
    "np.isclose(np.sqrt(2)*np.sqrt(2), 2.0)"
   ]
  },
  {
   "cell_type": "markdown",
   "metadata": {},
   "source": [
    "Ecrire une fonction probinv(p)\n",
    "qui prenne en paramètre une matrice stochastique $p$ et qui retourne une probabilité invariante pour $p$. N'oubliez pas de normaliser le vecteur propre pour obtenir une probabilité.\n",
    "\n",
    "Tester cette fonction avec $pla$ et la matrices de transition $pt$ et\n",
    "celle de l'exercice $4.10$."
   ]
  },
  {
   "cell_type": "code",
   "execution_count": 21,
   "metadata": {},
   "outputs": [
    {
     "name": "stdout",
     "output_type": "stream",
     "text": [
      "La probabilité invariante pour pla est :  [0.16666667 0.83333333]\n",
      "[ True  True]\n",
      "La probabilité invariante pour pla est :  [0. 1. 0. 0.]\n",
      "[ True  True  True  True]\n"
     ]
    }
   ],
   "source": [
    "# matrice stochastique p\n",
    "def probinv(p):\n",
    "    w, v = np.linalg.eig(p.T)\n",
    "    v1 = v[:,np.isclose(w, 1)]\n",
    "    v1 = v1[:,0]\n",
    "    PI = v1 / v1.sum()\n",
    "    PI = PI.real\n",
    "    return(PI)\n",
    "\n",
    "pi_pla = probinv(pla)\n",
    "print(\"La probabilité invariante pour pla est : \", pi_pla)\n",
    "print(np.isclose(np.dot(pi_pla,pla), pi_pla))\n",
    "\n",
    "pi_pt = probinv(pt)\n",
    "print(\"La probabilité invariante pour pla est : \", pi_pt)\n",
    "print(np.isclose(np.dot(pi_pt,pt), pi_pt))"
   ]
  },
  {
   "cell_type": "markdown",
   "metadata": {},
   "source": [
    "## Le théorème ergodique\n",
    "Rappelez les conditions d'application de ce théorème. Indiquez pour chacun des exercices $4.7,4.12$ si vous avez le droit de l'appliquer et faites le, éventuellement, pour répondre aux  questions de ces exercices. \n",
    "\n",
    "Vous devez déterminer la/les probabilités invariantes, la fonction $f$ dont vous prenez la moyenne temporelle (c'est un vecteur de la bonne dimension) et calculer la moyenne $<f,\\pi>$.\n"
   ]
  },
  {
   "cell_type": "markdown",
   "metadata": {},
   "source": [
    "<font color='blue'>\n",
    "Théorème ergodique : Soit X une chaine irréductible positive récurrente. Alors, pour toute fonction f positive ou bornée, presque sûrement : $\\frac{1}{n} \\sum_{k=1}^{n} f\\left(X_{k}\\right) \\rightarrow \\pi(f)$\n",
    "</font>"
   ]
  },
  {
   "cell_type": "markdown",
   "metadata": {},
   "source": [
    "<font color='blue'>\n",
    "Dans l'exercice 4.7, la chaîne de Markov est irréductible car tous les états communiquent. Tous les états sont récurrents positifs car l'espérance du temps de premier retour en un état duquel on est parti est finie.\n",
    "On peut donc appliquer le théorème ergodique en l'appliquant à la fonction positive : $f(X_{k}) = 1_{(X_{k} \\ge 2)} = 1 - 1_{(X_{k} = 1)}$\n",
    "Numériquement, on trouve $\\pi(f) = 0.625$\n",
    "</font>"
   ]
  },
  {
   "cell_type": "code",
   "execution_count": 22,
   "metadata": {},
   "outputs": [
    {
     "data": {
      "text/plain": [
       "0.6250000000000006"
      ]
     },
     "execution_count": 22,
     "metadata": {},
     "output_type": "execute_result"
    }
   ],
   "source": [
    "p7 = np.array([[2/3,0,1/3],[1/3,1/3,1/3],[0,1,0]])\n",
    "\n",
    "def f7(p):\n",
    "    s = 0\n",
    "    for i in range(len(p)):\n",
    "        if(i>=1):\n",
    "            s += p[i]\n",
    "    return(s)\n",
    "\n",
    "f7(probinv(p7))"
   ]
  },
  {
   "cell_type": "markdown",
   "metadata": {},
   "source": [
    "<font color='blue'>\n",
    "Dans l'exercice 4.12, la chaîne de Markov est irréductible et les états sont récurrents positifs. On peut donc appliquer le théorème ergodique en l'appliquant aux fonctions positives : $f(X_{k}) = X_{k}$ et $g(X_{k}) = X_{k}^{2}$. Numériquement, on trouve $\\pi(f) = 2.1$ et $\\pi(g) = 5.3$\n",
    "</font>"
   ]
  },
  {
   "cell_type": "code",
   "execution_count": 23,
   "metadata": {},
   "outputs": [
    {
     "data": {
      "text/plain": [
       "2.1"
      ]
     },
     "execution_count": 23,
     "metadata": {},
     "output_type": "execute_result"
    }
   ],
   "source": [
    "p12 = np.array([[0,1,0,0],[1/2,0,1/4,1/4],[1/2,1/2,0,0],[0,0,1,0]])\n",
    "p12\n",
    "\n",
    "def f12(p):\n",
    "    s = 0\n",
    "    for i in range(len(p)):\n",
    "        s += (i+1)*p[i]\n",
    "    return(s)\n",
    "\n",
    "f12(probinv(p12))"
   ]
  },
  {
   "cell_type": "code",
   "execution_count": 24,
   "metadata": {},
   "outputs": [
    {
     "data": {
      "text/plain": [
       "5.299999999999999"
      ]
     },
     "execution_count": 24,
     "metadata": {},
     "output_type": "execute_result"
    }
   ],
   "source": [
    "def g12(p):\n",
    "    s = 0\n",
    "    for i in range(len(p)):\n",
    "        s += ((i+1)**2)*p[i]\n",
    "    return(s)\n",
    "\n",
    "g12(probinv(p12))"
   ]
  },
  {
   "cell_type": "markdown",
   "metadata": {},
   "source": [
    "## Le théorème de convergence vers l'équilibre\n",
    "\n",
    "Relire attentivement l'énoncé de ce théorème.\n",
    "\n",
    "Indiquer, pour la matrice $pla$ et celle de l'exercice 4.17, vers quelle matrice $P^\\infty$  doit converger $P^n$ quand $n\\to \\infty$. \n",
    "\n",
    "Vérifier, dans ces deux cas,  que la décroissance d'une distance entre $P^n$ et $P^\\infty$ est en $\\rho^n$ avec $\\rho \\in ]0,1[$. Comparer la valeur de $\\rho$ trouvée expérimentalement et la valeur théorique donnée par le théorème de Perron Frobenius.\n"
   ]
  },
  {
   "cell_type": "markdown",
   "metadata": {},
   "source": [
    "<font color='blue'>\n",
    "Théorème de convergence vers l'équilibre - Soit une chaîne de Markov irréductible positive récurrente de proba invariante $\\pi$ et apériodique. Alors, pour toute loi initiale :\n",
    "$\\mathbb{P}(X_{n}=i) \\rightarrow \\pi(i)$\n",
    "en particulier pour tout i :\n",
    "$p_{i j}^{(n)} \\rightarrow \\pi(j)$\n",
    "</font>"
   ]
  },
  {
   "cell_type": "code",
   "execution_count": 25,
   "metadata": {},
   "outputs": [
    {
     "data": {
      "text/plain": [
       "0.0"
      ]
     },
     "execution_count": 25,
     "metadata": {},
     "output_type": "execute_result"
    }
   ],
   "source": [
    "def distance(p,q):\n",
    "    r=(p-q)**2\n",
    "    return(np.sqrt(r.sum()))\n",
    "distance(p7,p7)"
   ]
  },
  {
   "cell_type": "markdown",
   "metadata": {},
   "source": [
    "<font color='blue'>\n",
    "La chaîne de Markov de la matrice pla est irréductible positive récurrente et apériodique. On peut donc appliquer le théorème de Perron Frobenius qui assure l'existence d'une constante C > 0 telle que :\n",
    "$\\quad\\left\\|P^{n}-P^{\\infty}\\right\\| \\leq C \\rho^{n}$\n",
    "avec $\\rho=\\sup |\\lambda|: \\lambda \\in \\operatorname{sp}(P), \\lambda \\neq 1<1:$ c'est-à-dire la convergence est exponentiellement rapide.\n",
    "</font>"
   ]
  },
  {
   "cell_type": "code",
   "execution_count": 26,
   "metadata": {},
   "outputs": [
    {
     "data": {
      "text/plain": [
       "[<matplotlib.lines.Line2D at 0x2f0c0ea60b8>]"
      ]
     },
     "execution_count": 26,
     "metadata": {},
     "output_type": "execute_result"
    },
    {
     "data": {
      "image/png": "[encoded data removed]",
      "text/plain": [
       "<Figure size 432x288 with 1 Axes>"
      ]
     },
     "metadata": {
      "needs_background": "light"
     },
     "output_type": "display_data"
    }
   ],
   "source": [
    "pla_inf = np.array([probinv(pla) for i in range(len(pla))])\n",
    "\n",
    "v = list(np.linalg.eig(pla)[0])\n",
    "i = 0\n",
    "while (np.isclose(np.linalg.eig(pla)[0][i],1.0) == False):\n",
    "    i += 1\n",
    "del v[i]\n",
    "rho_theo = max([abs(elt) for elt in v])\n",
    "\n",
    "N = 20\n",
    "#Convergence de Pn-Pinf\n",
    "L = []\n",
    "for i in range(N):\n",
    "    L.append(distance(pla_inf, np.linalg.matrix_power(pla,i)))\n",
    "plt.plot(L,'r')\n",
    "\n",
    "#Convergence de C*rho^n\n",
    "L2 = []\n",
    "for j in range(N):\n",
    "    L2.append(rho_theo**j)\n",
    "plt.plot(L2,'g')"
   ]
  },
  {
   "cell_type": "markdown",
   "metadata": {},
   "source": [
    "<font color='blue'>\n",
    "La chaîne de Markov de la matrice P de l'exercice 4.17 est irréductible positive récurrente et apériodique. On peut donc appliquer le théorème de Perron Frobenius qui assure l'existence d'une constante C > 0 telle que :\n",
    "$\\quad\\left\\|P^{n}-P^{\\infty}\\right\\| \\leq C \\rho^{n}$\n",
    "avec $\\rho=\\sup |\\lambda|: \\lambda \\in \\operatorname{sp}(P), \\lambda \\neq 1<1:$ c'est-à-dire la convergence est exponentiellement rapide.\n",
    "</font>"
   ]
  },
  {
   "cell_type": "code",
   "execution_count": 27,
   "metadata": {},
   "outputs": [
    {
     "data": {
      "text/plain": [
       "[<matplotlib.lines.Line2D at 0x2f0c0ee8c18>]"
      ]
     },
     "execution_count": 27,
     "metadata": {},
     "output_type": "execute_result"
    },
    {
     "data": {
      "image/png": "[encoded data removed]",
      "text/plain": [
       "<Figure size 432x288 with 1 Axes>"
      ]
     },
     "metadata": {
      "needs_background": "light"
     },
     "output_type": "display_data"
    }
   ],
   "source": [
    "p17 = np.array([[0.98,0.02],[0.2,0.8]])\n",
    "p17_inf = np.array([probinv(p17) for i in range(len(p17))])\n",
    "\n",
    "v = list(np.linalg.eig(p17)[0])\n",
    "i = 0\n",
    "while (np.isclose(np.linalg.eig(p17)[0][i],1.0) == False):\n",
    "    i += 1\n",
    "del v[i]\n",
    "rho_theo = max([abs(elt) for elt in v])\n",
    "\n",
    "N = 20\n",
    "#Convergence de Pn-Pinf\n",
    "L = []\n",
    "for i in range(N):\n",
    "    L.append(distance(p17_inf, np.linalg.matrix_power(p17,i)))\n",
    "plt.plot(L,'r')\n",
    "\n",
    "#Convergence de C*rho^n\n",
    "L2 = []\n",
    "for j in range(N):\n",
    "    L2.append(rho_theo**j)\n",
    "plt.plot(L2,'g')"
   ]
  },
  {
   "cell_type": "markdown",
   "metadata": {},
   "source": [
    "## Page Rank\n",
    "Considérons 6 pages web dont les liens sont donnés par le graphe suivant.\n",
    "Simuler un marcheur qui choisit une page uniformément  parmi les liens\n",
    "possibles. Que se passe-t-il ? Pouviez vous le prévoir ?\n",
    "\n",
    "On rajoute du damping $\\alpha\\in (0,1)$ ie de l'exploration $1-\\alpha$ : a chaque étape\n",
    "le marcheur en $x$  choisit un des $d_x$ liens possibles avec la probabilité\n",
    "$\\frac{\\alpha}{d_x}$ et choisit une page au hasard dans tout le web\n",
    "avec la probabilité $1-\\alpha$. Pourquoi y a-t-il une unique mesure\n",
    "invariante ? Trouver la mesure invariante pour\n",
    "$\\alpha=0.5$ et $\\alpha=0.85$. En déduire la page la plus importante\n",
    "dans les deux cas. Commentez.\n",
    "\n",
    "Commandes Python : np.full\n"
   ]
  },
  {
   "cell_type": "code",
   "execution_count": 28,
   "metadata": {},
   "outputs": [
    {
     "data": {
      "image/png": "[encoded data removed]",
      "text/plain": [
       "<IPython.core.display.Image object>"
      ]
     },
     "execution_count": 28,
     "metadata": {},
     "output_type": "execute_result"
    }
   ],
   "source": [
    "from IPython.display import Image\n",
    "\n",
    "fig = Image(filename=('./graphepr.png'))\n",
    "fig"
   ]
  },
  {
   "cell_type": "markdown",
   "metadata": {},
   "source": [
    "<font color='blue'>\n",
    "On simule un marcheur qui choisit une page uniformément parmi les liens possibles. Au bout d'un grand nombre de changement d'état, il est bloqué à l'état 6. On pouvait le prévoir car l'état 6 ne communique avec personne qu'autre que lui-même.\n",
    "    \n",
    "</font>"
   ]
  },
  {
   "cell_type": "code",
   "execution_count": 29,
   "metadata": {},
   "outputs": [
    {
     "name": "stdout",
     "output_type": "stream",
     "text": [
      "[[0. 0. 0. 0. 0. 1.]\n",
      " [0. 0. 0. 0. 0. 1.]\n",
      " [0. 0. 0. 0. 0. 1.]\n",
      " [0. 0. 0. 0. 0. 1.]\n",
      " [0. 0. 0. 0. 0. 1.]\n",
      " [0. 0. 0. 0. 0. 1.]]\n"
     ]
    }
   ],
   "source": [
    "pweb = np.array([[0,1,0,0,0,0],[1/2,0,1/2,0,0,0],[1/3,1/3,0,1/3,0,0],[1/4,1/4,0,0,1/4,1/4],[0,1,0,0,0,0],[0,0,0,0,0,1]])\n",
    "pweb\n",
    "n = 100000\n",
    "pweb_n = np.linalg.matrix_power(pweb,n)\n",
    "print(pweb_n)"
   ]
  },
  {
   "cell_type": "markdown",
   "metadata": {},
   "source": [
    "<font color='blue'>\n",
    "On rajoute du damping $\\alpha\\in (0,1)$\n",
    "Il y a une unique mesure invariante car c'est une chaîne de Markov irréductible sur un ensemble d'états finis.\n",
    "</font>"
   ]
  },
  {
   "cell_type": "code",
   "execution_count": 30,
   "metadata": {},
   "outputs": [
    {
     "data": {
      "text/plain": [
       "array([[0.1       , 0.5       , 0.1       , 0.1       , 0.1       ,\n",
       "        0.1       ],\n",
       "       [0.25      , 0.125     , 0.25      , 0.125     , 0.125     ,\n",
       "        0.125     ],\n",
       "       [0.16666667, 0.16666667, 0.16666667, 0.16666667, 0.16666667,\n",
       "        0.16666667],\n",
       "       [0.125     , 0.125     , 0.25      , 0.25      , 0.125     ,\n",
       "        0.125     ],\n",
       "       [0.1       , 0.5       , 0.1       , 0.1       , 0.1       ,\n",
       "        0.1       ],\n",
       "       [0.1       , 0.1       , 0.1       , 0.1       , 0.1       ,\n",
       "        0.5       ]])"
      ]
     },
     "execution_count": 30,
     "metadata": {},
     "output_type": "execute_result"
    }
   ],
   "source": [
    "a = 0.5\n",
    "pweb_alpha = np.array([[(1-a)/5,a,(1-a)/5,(1-a)/5,(1-a)/5,(1-a)/5],[a/2,(1-a)/4,a/2,(1-a)/4,(1-a)/4,(1-a)/4],\n",
    "              [a/3,a/3,(1-a)/3,a/3,(1-a)/3,(1-a)/3],[a/4,a/4,(1-a)/2,(1-a)/2,a/4,a/4],\n",
    "              [(1-a)/5,a,(1-a)/5,(1-a)/5,(1-a)/5,(1-a)/5],[(1-a)/5,(1-a)/5,(1-a)/5,(1-a)/5,(1-a)/5,a]])\n",
    "pweb_alpha"
   ]
  },
  {
   "cell_type": "code",
   "execution_count": 31,
   "metadata": {},
   "outputs": [
    {
     "data": {
      "text/plain": [
       "array([0.14864458, 0.22771084, 0.16581325, 0.1373494 , 0.12018072,\n",
       "       0.2003012 ])"
      ]
     },
     "execution_count": 31,
     "metadata": {},
     "output_type": "execute_result"
    }
   ],
   "source": [
    "probinv(pweb_alpha)"
   ]
  },
  {
   "cell_type": "code",
   "execution_count": 32,
   "metadata": {},
   "outputs": [],
   "source": [
    "a = 0.85\n",
    "pweb_alpha = np.array([[(1-a)/5,a,(1-a)/5,(1-a)/5,(1-a)/5,(1-a)/5],[a/2,(1-a)/4,a/2,(1-a)/4,(1-a)/4,(1-a)/4],\n",
    "              [a/3,a/3,(1-a)/3,a/3,(1-a)/3,(1-a)/3],[a/4,a/4,(1-a)/2,(1-a)/2,a/4,a/4],\n",
    "              [(1-a)/5,a,(1-a)/5,(1-a)/5,(1-a)/5,(1-a)/5],[(1-a)/5,(1-a)/5,(1-a)/5,(1-a)/5,(1-a)/5,a]])"
   ]
  },
  {
   "cell_type": "code",
   "execution_count": 33,
   "metadata": {},
   "outputs": [
    {
     "data": {
      "text/plain": [
       "array([0.18946897, 0.27699458, 0.14557357, 0.07220534, 0.0481664 ,\n",
       "       0.26759114])"
      ]
     },
     "execution_count": 33,
     "metadata": {},
     "output_type": "execute_result"
    }
   ],
   "source": [
    "probinv(pweb_alpha)"
   ]
  },
  {
   "cell_type": "markdown",
   "metadata": {},
   "source": [
    "<font color='blue'>\n",
    "Pour $\\alpha$ = 0.5 comme pour $\\alpha$ = 0.85, la page la plus importante est la deuxième page."
   ]
  }
 ],
 "metadata": {
  "kernelspec": {
   "display_name": "Python 3",
   "language": "python",
   "name": "python3"
  },
  "language_info": {
   "codemirror_mode": {
    "name": "ipython",
    "version": 3
   },
   "file_extension": ".py",
   "mimetype": "text/x-python",
   "name": "python",
   "nbconvert_exporter": "python",
   "pygments_lexer": "ipython3",
   "version": "3.7.7"
  }
 },
 "nbformat": 4,
 "nbformat_minor": 1
}

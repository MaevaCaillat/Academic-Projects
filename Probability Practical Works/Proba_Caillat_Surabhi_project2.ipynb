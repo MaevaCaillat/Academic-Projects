{
 "cells": [
  {
   "cell_type": "markdown",
   "metadata": {},
   "source": [
    "<figure>\n",
    "  <IMG SRC=\"http://www.intraperso.univ-nantes.fr/uas/intraperso/LOGO/logo%20un2012blanc_larg40.png\" WIDTH=250 ALIGN=\"right\">\n",
    "</figure>\n",
    "\n",
    "# Distanciel X1MF020 : Théorie des Probabilités avancée\n",
    "*P. Carmona*\n",
    "\n",
    "Pour avancer dans le notebook et exécuter les cellules il faut taper Shift+Enter ou utiliser la barre d'outils ci-dessus et choisir Cell, Run Cell and select Below\n",
    "\n",
    "## Consignes\n",
    "\n",
    "Vous répondrez aux questions qui apparaissent en $\\color{red} {rouge}$ en modifiant ce notebook. En insérant des cellules de type Markdown pour le texte et des cellules de type Code pour le code. Normalement vous devriez pouvoir vous contenter des cellules prévues en dessous de chaque question : certaines en markdown pour le texte et d'autres en Code pour les codes. \n",
    "\n",
    "Ensuite vous sauvez ce notebook sous le nom Prenom_Nom_tpmasterproba.ipynb et vous le déposez sur Madoc."
   ]
  },
  {
   "cell_type": "markdown",
   "metadata": {},
   "source": [
    "### Algorithme d'acceptation rejet\n",
    "Relisez le chapître du cours en distanciel  sur l'algorithme.\n",
    "\n",
    "$\\color{red}{\\text{Montrer que l'on peut simuler des variables aléatoires qui\n",
    "    suivent la loi gaussienne standard par la méthode}}$\n",
    "    $\\color{red}{\\text{d'acceptation\n",
    "    rejet en prenant la loi de Cauchy comme loi instrumentale.}}$\n",
    "    \n",
    "\n"
   ]
  },
  {
   "cell_type": "markdown",
   "metadata": {},
   "source": []
  },
  {
   "cell_type": "code",
   "execution_count": 1,
   "metadata": {},
   "outputs": [],
   "source": [
    "import numpy as np\n",
    "import matplotlib.pyplot as plt\n",
    "import matplotlib.mlab as mlab\n",
    "import numpy.random as rnd\n",
    "import scipy\n",
    "from scipy import stats\n",
    "import statsmodels\n",
    "from statsmodels.distributions.empirical_distribution import ECDF"
   ]
  },
  {
   "cell_type": "markdown",
   "metadata": {},
   "source": [
    "Le code suivant génère un échantillon de 100 variables aléatoires de Cauchy standard"
   ]
  },
  {
   "cell_type": "code",
   "execution_count": 2,
   "metadata": {},
   "outputs": [],
   "source": [
    "Y_100 = rnd.standard_cauchy(100)\n",
    "#Y_100"
   ]
  },
  {
   "cell_type": "markdown",
   "metadata": {},
   "source": [
    "Le code suivant génère un échantillon de 100 variables aléatoires de loi uniforme standard."
   ]
  },
  {
   "cell_type": "code",
   "execution_count": 3,
   "metadata": {},
   "outputs": [],
   "source": [
    "U_100 = rnd.uniform(0,1,100)\n",
    "#U_100"
   ]
  },
  {
   "cell_type": "markdown",
   "metadata": {},
   "source": [
    "$\\color{red}{\\text{Implémenter l'algorithme d'acceptation rejet en créant une fonction \n",
    "}}$ $\\color{green}{\\text{AR}}$ $\\color{red}{\\text{qui a pour paramètre}}$  $\\color{\\red} {n\\in \\mathbb{N}^*}$ $\\color{red}{\\text{et qui retourne un}}$ $\\color{red} n$  $\\color{red}{\\text{échantillon de variables aléatoires suivant une loi Normale standard.}}$$\\color{red}{\\text{ATTENTION, il\n",
    "    faut utiliser une boucle while.}}$\n",
    "    \n"
   ]
  },
  {
   "cell_type": "code",
   "execution_count": 4,
   "metadata": {
    "scrolled": false
   },
   "outputs": [
    {
     "data": {
      "text/plain": [
       "1.520346900382118"
      ]
     },
     "execution_count": 4,
     "metadata": {},
     "output_type": "execute_result"
    },
    {
     "data": {
      "image/png": "[encoded data removed]",
      "text/plain": [
       "<Figure size 432x288 with 1 Axes>"
      ]
     },
     "metadata": {
      "needs_background": "light"
     },
     "output_type": "display_data"
    }
   ],
   "source": [
    "X = np.linspace(0.0,6.0,num=100000)\n",
    "plt.plot(X, stats.norm.pdf(X)/stats.cauchy.pdf(X))\n",
    "M = np.max(stats.norm.pdf(X)/stats.cauchy.pdf(X))\n",
    "M"
   ]
  },
  {
   "cell_type": "markdown",
   "metadata": {},
   "source": [
    "$M = Sup_{x\\in \\mathbb{R}} \\frac{f(x)}{g(x)} = 1,52 $ "
   ]
  },
  {
   "cell_type": "code",
   "execution_count": 5,
   "metadata": {},
   "outputs": [
    {
     "data": {
      "text/plain": [
       "0"
      ]
     },
     "execution_count": 5,
     "metadata": {},
     "output_type": "execute_result"
    }
   ],
   "source": [
    "def min_i(u,y):\n",
    "    i = 0\n",
    "    while(u[i]>(stats.norm.pdf(y[i])/(stats.cauchy.pdf(y[i])*M))):\n",
    "        i = i+1\n",
    "    T = i\n",
    "    Yt = y[T]\n",
    "    return(T)\n",
    "\n",
    "min_i(U_100,Y_100)"
   ]
  },
  {
   "cell_type": "code",
   "execution_count": 6,
   "metadata": {
    "scrolled": true
   },
   "outputs": [
    {
     "name": "stdout",
     "output_type": "stream",
     "text": [
      "4 2.6025656714658805\n"
     ]
    }
   ],
   "source": [
    "def AR(n):\n",
    "    Yt = []\n",
    "    T = []\n",
    "    for j in range(n):\n",
    "        Y = rnd.standard_cauchy(n)\n",
    "        U = rnd.uniform(0,1,n)\n",
    "        t = min_i(U,Y)\n",
    "        T += [t]\n",
    "        Yt += [Y[t]]\n",
    "    return (T,Yt)\n",
    "A = AR(100)\n",
    "print(max(A[0]),max(A[1]))"
   ]
  },
  {
   "cell_type": "markdown",
   "metadata": {},
   "source": [
    "$\\color{red}{\\text{Valider cet algorithme à\n",
    "    l'aide des critères suivants:}}$\n",
    "- $\\color{red}{\\text{comparaison de l'histogramme de l'échantillon avec la densité de la loi cible.}}$ \n",
    "- $\\color{red}{\\text{comparaison de la moyenne (resp. variance) de la  loi cible et de la moyenne (resp. variance) empirique}}$$\\color{red}{\\text{  de l'échantillon simulé.}}$\n",
    "- $\\color{red}{\\text{Retrouver par la simulation le taux d'acceptation et vérifier que le nombre de variables simulées suivant}}$\n",
    "$\\color{red}{\\text{la loi instrumentale suit bien une loi géométrique.}}$"
   ]
  },
  {
   "cell_type": "markdown",
   "metadata": {
    "collapsed": true
   },
   "source": [
    "L'histogramme de l'échantillon et la densité de la loi cible concordent sur le graphe suivant :"
   ]
  },
  {
   "cell_type": "code",
   "execution_count": 7,
   "metadata": {
    "scrolled": true
   },
   "outputs": [
    {
     "data": {
      "text/plain": [
       "[<matplotlib.lines.Line2D at 0x12657835d30>]"
      ]
     },
     "execution_count": 7,
     "metadata": {},
     "output_type": "execute_result"
    },
    {
     "data": {
      "image/png": "[encoded data removed]",
      "text/plain": [
       "<Figure size 432x288 with 1 Axes>"
      ]
     },
     "metadata": {
      "needs_background": "light"
     },
     "output_type": "display_data"
    }
   ],
   "source": [
    "plt.hist(A[1], bins=10,density=True)\n",
    "X = np.linspace(-3.0,3.0,num=100)\n",
    "plt.plot(X,stats.norm.pdf(X))"
   ]
  },
  {
   "cell_type": "code",
   "execution_count": 8,
   "metadata": {},
   "outputs": [
    {
     "name": "stdout",
     "output_type": "stream",
     "text": [
      "La moyenne de la loi cible est :  0.0\n",
      "La moyenne empirique de l'échantillon simulé est :  0.1258737131570546\n"
     ]
    }
   ],
   "source": [
    "moy_loi = stats.norm.mean(loc=0,scale=1)\n",
    "print(\"La moyenne de la loi cible est : \", moy_loi)\n",
    "\n",
    "moy_ech = np.mean(A[1])\n",
    "print(\"La moyenne empirique de l'échantillon simulé est : \",moy_ech)"
   ]
  },
  {
   "cell_type": "code",
   "execution_count": 9,
   "metadata": {},
   "outputs": [
    {
     "name": "stdout",
     "output_type": "stream",
     "text": [
      "La variance de la loi cible est :  1.0\n",
      "La variance empirique de l'échantillon simulé est :  0.9729499204220567\n"
     ]
    }
   ],
   "source": [
    "var_loi = stats.norm.var(loc=0,scale=1)\n",
    "print(\"La variance de la loi cible est : \", var_loi)\n",
    "\n",
    "var_ech = np.var(A[1])\n",
    "print(\"La variance empirique de l'échantillon simulé est : \", var_ech)"
   ]
  },
  {
   "cell_type": "markdown",
   "metadata": {},
   "source": [
    "On remarque ci-dessus que les moyennes et les variances de la loi cible et de l'échantillon simulé sont proches."
   ]
  },
  {
   "cell_type": "markdown",
   "metadata": {},
   "source": [
    "$\\color{red}{\\text{Retrouver le taux d'acceptation et montrer que le nombre de variables instrumentales simulées suit}}$ $\\color{red}{\\text{une loi géométrique.}}$"
   ]
  },
  {
   "cell_type": "markdown",
   "metadata": {},
   "source": [
    "Le taux d'acceptation $\\frac{1}{M}$ vaut 0,66."
   ]
  },
  {
   "cell_type": "code",
   "execution_count": 10,
   "metadata": {},
   "outputs": [
    {
     "name": "stdout",
     "output_type": "stream",
     "text": [
      "0.657744623775445\n"
     ]
    }
   ],
   "source": [
    "print(1/M)"
   ]
  },
  {
   "cell_type": "markdown",
   "metadata": {
    "collapsed": true
   },
   "source": [
    "T = min {$i \\ge 1$ : $U_{i} \\le \\frac{f(Y_{i})}{M g(Y_{i})}$} suit bien une loi géométrique de paramètre $\\frac{1}{M}$ comme on peut l'observer sur le graphe suivant :"
   ]
  },
  {
   "cell_type": "code",
   "execution_count": 11,
   "metadata": {
    "scrolled": true
   },
   "outputs": [
    {
     "data": {
      "text/plain": [
       "[<matplotlib.lines.Line2D at 0x1265734e470>]"
      ]
     },
     "execution_count": 11,
     "metadata": {},
     "output_type": "execute_result"
    },
    {
     "data": {
      "image/png": "[encoded data removed]",
      "text/plain": [
       "<Figure size 432x288 with 1 Axes>"
      ]
     },
     "metadata": {
      "needs_background": "light"
     },
     "output_type": "display_data"
    }
   ],
   "source": [
    "plt.hist(A[0], bins=10,density=True)\n",
    "X = np.arange(0.0,5.0,0.1)\n",
    "plt.plot(X,stats.geom.pmf(X, (1/M), loc=0))"
   ]
  },
  {
   "cell_type": "markdown",
   "metadata": {},
   "source": [
    "Ainsi, on peut simuler des variables aléatoires qui suivent la loi gaussienne standard par la méthode d'acceptation rejet en prenant la loi de Cauchy comme loi instrumentale."
   ]
  },
  {
   "cell_type": "markdown",
   "metadata": {},
   "source": [
    "$\\color{red}{\\text{Montrer que l'on peut simuler la loi du demi-cercle, i.e. la\n",
    "    loi de densité}}$ $\\color{red}{f(x)=\\frac{2}{\\pi}\\sqrt{1-x^2} 1_{(-1\\le x\\le 1)}}$\n",
    "  $\\color{red}{\\text{  en prenant la loi uniforme sur}}$ $\\color{red}{[-1,1]}$ $\\color{red}{\\text{comme loi\n",
    "    instrumentale.}}$\n",
    "\n"
   ]
  },
  {
   "cell_type": "markdown",
   "metadata": {},
   "source": []
  },
  {
   "cell_type": "markdown",
   "metadata": {},
   "source": [
    "$\\color{red}{\\text{Implémenter et valider l'algorithme en suivant les étapes\n",
    "    proposées à la question précédente.}}$"
   ]
  },
  {
   "cell_type": "markdown",
   "metadata": {},
   "source": [
    "$M = Sup_{x\\in \\mathbb{R}} \\frac{f(x)}{g(x)} = 1,27 $ "
   ]
  },
  {
   "cell_type": "code",
   "execution_count": 12,
   "metadata": {},
   "outputs": [
    {
     "name": "stderr",
     "output_type": "stream",
     "text": [
      "C:\\Users\\maeva\\Anaconda3\\lib\\site-packages\\ipykernel_launcher.py:6: RuntimeWarning: invalid value encountered in true_divide\n",
      "  \n"
     ]
    },
    {
     "data": {
      "text/plain": [
       "1.2732395447351628"
      ]
     },
     "execution_count": 12,
     "metadata": {},
     "output_type": "execute_result"
    },
    {
     "data": {
      "image/png": "[encoded data removed]",
      "text/plain": [
       "<Figure size 432x288 with 1 Axes>"
      ]
     },
     "metadata": {
      "needs_background": "light"
     },
     "output_type": "display_data"
    }
   ],
   "source": [
    "#Echantillon de 100 variables aléatoires de loi uniforme sur [-1,1]\n",
    "Y_100_cercle = rnd.uniform(-1,1,1000)\n",
    "\n",
    "#Calcul de M\n",
    "X_cercle = np.linspace(-1.0,1.0,num=10000)\n",
    "plt.plot(X, stats.semicircular.pdf(X)/stats.uniform.pdf(X, loc=-1, scale=2))\n",
    "M_cercle = np.max(stats.semicircular.pdf(0)/stats.uniform.pdf(0, loc=-1, scale=2))\n",
    "M_cercle"
   ]
  },
  {
   "cell_type": "code",
   "execution_count": 13,
   "metadata": {},
   "outputs": [
    {
     "name": "stdout",
     "output_type": "stream",
     "text": [
      "0\n",
      "4 0.9340556136635279\n"
     ]
    }
   ],
   "source": [
    "def min_i_cercle(u,y):\n",
    "    i = 0\n",
    "    while(u[i]>(stats.semicircular.pdf(y[i])/(stats.uniform.pdf(y[i], loc=-1, scale=2)*M))):\n",
    "        i = i+1\n",
    "    T = i\n",
    "    Yt = y[T]\n",
    "    return(T)\n",
    "\n",
    "print(min_i_cercle(U_100,Y_100_cercle))\n",
    "\n",
    "def AR_cercle(n):\n",
    "    Yt = []\n",
    "    T = []\n",
    "    for j in range(n):\n",
    "        Y = rnd.uniform(-1.0,1.0,n)\n",
    "        U = rnd.uniform(0,1,n)\n",
    "        t = min_i_cercle(U,Y)\n",
    "        T += [t]\n",
    "        Yt += [Y[t]]\n",
    "    return (T,Yt)\n",
    "A_cercle = AR_cercle(100)\n",
    "print(max(A_cercle[0]),max(A_cercle[1]))"
   ]
  },
  {
   "cell_type": "code",
   "execution_count": 14,
   "metadata": {},
   "outputs": [
    {
     "data": {
      "text/plain": [
       "[<matplotlib.lines.Line2D at 0x12657439630>]"
      ]
     },
     "execution_count": 14,
     "metadata": {},
     "output_type": "execute_result"
    },
    {
     "data": {
      "image/png": "[encoded data removed]",
      "text/plain": [
       "<Figure size 432x288 with 1 Axes>"
      ]
     },
     "metadata": {
      "needs_background": "light"
     },
     "output_type": "display_data"
    }
   ],
   "source": [
    "plt.hist(A_cercle[1], bins=10,density=True)\n",
    "X = np.linspace(-1.0,1.0,num=100)\n",
    "plt.plot(X,stats.semicircular.pdf(X))"
   ]
  },
  {
   "cell_type": "code",
   "execution_count": 15,
   "metadata": {},
   "outputs": [
    {
     "name": "stdout",
     "output_type": "stream",
     "text": [
      "La moyenne de la loi cible est :  0.0\n",
      "La moyenne empirique de l'échantillon simulé est :  -0.10728006189539854\n",
      "La variance de la loi cible est :  0.25\n",
      "La variance empirique de l'échantillon simulé est :  0.2606144371565519\n"
     ]
    }
   ],
   "source": [
    "moy_loi = stats.semicircular.mean()\n",
    "print(\"La moyenne de la loi cible est : \", moy_loi)\n",
    "\n",
    "moy_ech = np.mean(A_cercle[1])\n",
    "print(\"La moyenne empirique de l'échantillon simulé est : \",moy_ech)\n",
    "\n",
    "var_loi = stats.semicircular.var()\n",
    "print(\"La variance de la loi cible est : \", var_loi)\n",
    "\n",
    "var_ech = np.var(A_cercle[1])\n",
    "print(\"La variance empirique de l'échantillon simulé est : \", var_ech)"
   ]
  },
  {
   "cell_type": "markdown",
   "metadata": {},
   "source": [
    "On remarque ci-dessus que les moyennes et les variances de la loi cible et de l'échantillon simulé sont proches."
   ]
  },
  {
   "cell_type": "markdown",
   "metadata": {},
   "source": [
    "Le taux d'acceptation $\\frac{1}{M}$ vaut 0,79."
   ]
  },
  {
   "cell_type": "code",
   "execution_count": 16,
   "metadata": {},
   "outputs": [
    {
     "name": "stdout",
     "output_type": "stream",
     "text": [
      "0.7853981633974483\n"
     ]
    }
   ],
   "source": [
    "print(1/M_cercle)"
   ]
  },
  {
   "cell_type": "markdown",
   "metadata": {},
   "source": [
    "T = min {$i \\ge 1$ : $U_{i} \\le \\frac{f(Y_{i})}{M g(Y_{i})}$} suit bien une loi géométrique de paramètre $\\frac{1}{M}$ comme on peut l'observer sur le graphe suivant :"
   ]
  },
  {
   "cell_type": "code",
   "execution_count": 17,
   "metadata": {},
   "outputs": [
    {
     "data": {
      "text/plain": [
       "[<matplotlib.lines.Line2D at 0x126574c3390>]"
      ]
     },
     "execution_count": 17,
     "metadata": {},
     "output_type": "execute_result"
    },
    {
     "data": {
      "image/png": "[encoded data removed]",
      "text/plain": [
       "<Figure size 432x288 with 1 Axes>"
      ]
     },
     "metadata": {
      "needs_background": "light"
     },
     "output_type": "display_data"
    }
   ],
   "source": [
    "plt.hist(A_cercle[0], bins=10, density=True)\n",
    "X = np.arange(0.0,3.5,0.1)\n",
    "plt.plot(X,stats.geom.pmf(X, (1/M_cercle)))"
   ]
  },
  {
   "cell_type": "markdown",
   "metadata": {},
   "source": [
    "Ainsi, on peut simuler la loi du demi-cercle en prenant la loi uniforme sur [-1,1] comme loi instrumentale."
   ]
  }
 ],
 "metadata": {
  "kernelspec": {
   "display_name": "Python 3",
   "language": "python",
   "name": "python3"
  },
  "language_info": {
   "codemirror_mode": {
    "name": "ipython",
    "version": 3
   },
   "file_extension": ".py",
   "mimetype": "text/x-python",
   "name": "python",
   "nbconvert_exporter": "python",
   "pygments_lexer": "ipython3",
   "version": "3.7.7"
  }
 },
 "nbformat": 4,
 "nbformat_minor": 1
}

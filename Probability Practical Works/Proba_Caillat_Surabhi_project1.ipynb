{
 "cells": [
  {
   "cell_type": "markdown",
   "metadata": {},
   "source": [
    "<figure>\n",
    "  <IMG SRC=\"http://www.intraperso.univ-nantes.fr/uas/intraperso/LOGO/logo%20un2012blanc_larg40.png\" WIDTH=250 ALIGN=\"right\">\n",
    "</figure>\n",
    "\n",
    "# Distanciel X1MF020 : Théorie des Probabilités avancée\n",
    "*P. Carmona*\n",
    "\n",
    "Pour avancer dans le notebook et exécuter les cellules il faut taper Shift+Enter ou utiliser la barre d'outils ci-dessus et choisir Cell, Run Cell and select Below\n",
    "\n",
    "## Consignes\n",
    "\n",
    "Vous répondrez aux questions qui apparaissent en $\\color{red} {rouge}$ en modifiant ce notebook. En insérant des cellules de type Markdown pour le texte et des cellules de type Code pour le code. Normalement vous devriez pouvoir vous contenter des cellules prévues en dessous de chaque question : certaines en markdown pour le texte et d'autres en Code pour les codes. \n",
    "\n",
    "Ensuite vous sauvez ce notebook sous le nom Prenom_Nom_tpmasterproba.ipynb et vous le déposez sur Madoc."
   ]
  },
  {
   "cell_type": "markdown",
   "metadata": {},
   "source": [
    "## Validation d'un générateur aléatoire\n",
    "\n",
    "### Variables aléatoires à densité\n",
    "\n",
    "On dispose d'un échantillon que l'on pense être l'échantillon d'une loi normale centrée réduite. On\n",
    "désire valider graphiquement ce fait."
   ]
  },
  {
   "cell_type": "code",
   "execution_count": 1,
   "metadata": {},
   "outputs": [
    {
     "data": {
      "text/plain": [
       "array([-0.04751595,  1.52879755, -0.48509082, ..., -1.12344728,\n",
       "       -0.98849042, -1.95847896])"
      ]
     },
     "execution_count": 1,
     "metadata": {},
     "output_type": "execute_result"
    }
   ],
   "source": [
    "import numpy as np\n",
    "import matplotlib.pyplot as plt\n",
    "import matplotlib.mlab as mlab\n",
    "import numpy.random as rnd\n",
    "%matplotlib inline\n",
    "\n",
    "\n",
    "#from np.random import *\n",
    "x=rnd.randn(10000)\n",
    "x"
   ]
  },
  {
   "cell_type": "markdown",
   "metadata": {},
   "source": [
    "Une première idée est de dire que vu que l'on a tiré beaucoup de\n",
    "points, $n=10000$, un histogramme devrait être proche de la fonction\n",
    "densité.\n",
    "\n",
    "Regardons donc comment dessiner un histogramme."
   ]
  },
  {
   "cell_type": "code",
   "execution_count": 2,
   "metadata": {},
   "outputs": [
    {
     "data": {
      "text/plain": [
       "(array([  13.,  123.,  602., 1590., 2539., 2761., 1565.,  626.,  154.,\n",
       "          27.]),\n",
       " array([-3.6300531 , -2.90686694, -2.18368077, -1.46049461, -0.73730845,\n",
       "        -0.01412228,  0.70906388,  1.43225004,  2.1554362 ,  2.87862237,\n",
       "         3.60180853]),\n",
       " <a list of 10 Patch objects>)"
      ]
     },
     "execution_count": 2,
     "metadata": {},
     "output_type": "execute_result"
    },
    {
     "data": {
      "image/png": "[encoded data removed]",
      "text/plain": [
       "<Figure size 432x288 with 1 Axes>"
      ]
     },
     "metadata": {
      "needs_background": "light"
     },
     "output_type": "display_data"
    }
   ],
   "source": [
    "plt.hist(x)"
   ]
  },
  {
   "cell_type": "markdown",
   "metadata": {},
   "source": [
    "Si l'on tape ?hist on a une aide sur la fonction histogramme. Par exemple, on peut nettement améliorer l'histogramme en utilisant la fonction hist du paquetage plt: "
   ]
  },
  {
   "cell_type": "code",
   "execution_count": 3,
   "metadata": {},
   "outputs": [
    {
     "name": "stderr",
     "output_type": "stream",
     "text": [
      "C:\\Users\\maeva\\Anaconda3\\lib\\site-packages\\ipykernel_launcher.py:1: MatplotlibDeprecationWarning: \n",
      "The 'normed' kwarg was deprecated in Matplotlib 2.1 and will be removed in 3.1. Use 'density' instead.\n",
      "  \"\"\"Entry point for launching an IPython kernel.\n"
     ]
    },
    {
     "data": {
      "image/png": "[encoded data removed]",
      "text/plain": [
       "<Figure size 432x288 with 1 Axes>"
      ]
     },
     "metadata": {
      "needs_background": "light"
     },
     "output_type": "display_data"
    }
   ],
   "source": [
    "n, bins, patches = plt.hist(x, 50, normed=1, facecolor='green', alpha=0.75)"
   ]
  },
  {
   "cell_type": "code",
   "execution_count": 4,
   "metadata": {
    "scrolled": true
   },
   "outputs": [
    {
     "data": {
      "text/plain": [
       "array([-3.6300531 , -3.48541587, -3.34077863, -3.1961414 , -3.05150417,\n",
       "       -2.90686694, -2.7622297 , -2.61759247, -2.47295524, -2.32831801,\n",
       "       -2.18368077, -2.03904354, -1.89440631, -1.74976908, -1.60513184,\n",
       "       -1.46049461, -1.31585738, -1.17122015, -1.02658291, -0.88194568,\n",
       "       -0.73730845, -0.59267122, -0.44803398, -0.30339675, -0.15875952,\n",
       "       -0.01412228,  0.13051495,  0.27515218,  0.41978941,  0.56442665,\n",
       "        0.70906388,  0.85370111,  0.99833834,  1.14297558,  1.28761281,\n",
       "        1.43225004,  1.57688727,  1.72152451,  1.86616174,  2.01079897,\n",
       "        2.1554362 ,  2.30007344,  2.44471067,  2.5893479 ,  2.73398513,\n",
       "        2.87862237,  3.0232596 ,  3.16789683,  3.31253406,  3.4571713 ,\n",
       "        3.60180853])"
      ]
     },
     "execution_count": 4,
     "metadata": {},
     "output_type": "execute_result"
    }
   ],
   "source": [
    "bins"
   ]
  },
  {
   "cell_type": "markdown",
   "metadata": {},
   "source": [
    "\n",
    "Regardons donc maintenant comment tracer la fonction densité\n",
    "gaussienne standard. On la trace sur l'intervalle [-5,5].\n",
    "$\\color{red} {\\text{Pourquoi\n",
    "est-ce suffisant ?}}$\n"
   ]
  },
  {
   "cell_type": "markdown",
   "metadata": {},
   "source": [
    "C'est suffisant car la première barre de l'histogramme ci-dessus est à -4,24 environ et la dernière se trouve à 4,73 environ."
   ]
  },
  {
   "cell_type": "code",
   "execution_count": 5,
   "metadata": {
    "scrolled": true
   },
   "outputs": [
    {
     "data": {
      "image/png": "[encoded data removed]",
      "text/plain": [
       "<Figure size 432x288 with 1 Axes>"
      ]
     },
     "metadata": {
      "needs_background": "light"
     },
     "output_type": "display_data"
    }
   ],
   "source": [
    "from scipy.stats import norm\n",
    "mu,sigma=0,1\n",
    "\n",
    "#Ma version de matplotlib ne possède pas normpdf donc j'ai dû le faire avec scipy.stats.norm\n",
    "#y = mlab.normpdf( bins, mu, sigma)\n",
    "y = norm.pdf(bins, mu, sigma)\n",
    "\n",
    "l = plt.plot(bins, y, 'r--', linewidth=1)"
   ]
  },
  {
   "cell_type": "markdown",
   "metadata": {},
   "source": [
    "Superposons les deux graphiques"
   ]
  },
  {
   "cell_type": "code",
   "execution_count": 6,
   "metadata": {},
   "outputs": [
    {
     "data": {
      "text/plain": [
       "[<matplotlib.lines.Line2D at 0x2c00aea4780>]"
      ]
     },
     "execution_count": 6,
     "metadata": {},
     "output_type": "execute_result"
    },
    {
     "data": {
      "image/png": "[encoded data removed]",
      "text/plain": [
       "<Figure size 432x288 with 1 Axes>"
      ]
     },
     "metadata": {
      "needs_background": "light"
     },
     "output_type": "display_data"
    }
   ],
   "source": [
    "x=rnd.randn(100000)\n",
    "plt.hist(x,40,density=True)\n",
    "tt=np.arange(start=-5,stop=+5,step=0.01)\n",
    "plt.plot(tt, norm.pdf(tt,0,1))\n"
   ]
  },
  {
   "cell_type": "markdown",
   "metadata": {},
   "source": [
    "### Variables aléatoires discrètes \n",
    "Lorsque l'on dispose d'un échantillon d'une loi de discrète, par\n",
    "exemple la loi de Poisson, nous  pouvons encore comparer l'histogramme\n",
    "à la densité. Mais cela ne donne pas toujours des résultats convaincants. Jouez avec les paramètres de l'histogramme pour vous en convaincre."
   ]
  },
  {
   "cell_type": "code",
   "execution_count": 7,
   "metadata": {},
   "outputs": [
    {
     "data": {
      "text/plain": [
       "[<matplotlib.lines.Line2D at 0x2c00aecd908>]"
      ]
     },
     "execution_count": 7,
     "metadata": {},
     "output_type": "execute_result"
    },
    {
     "data": {
      "image/png": "[encoded data removed]",
      "text/plain": [
       "<Figure size 432x288 with 1 Axes>"
      ]
     },
     "metadata": {
      "needs_background": "light"
     },
     "output_type": "display_data"
    }
   ],
   "source": [
    "import scipy\n",
    "\n",
    "from scipy import stats \n",
    "\n",
    "x=rnd.poisson(lam=2,size=1000)\n",
    "plt.hist(x,15, density=True)\n",
    "z=scipy.stats.poisson\n",
    "plt.plot(np.arange(10),z.pmf(np.arange(10),2))"
   ]
  },
  {
   "cell_type": "markdown",
   "metadata": {},
   "source": [
    " Il n'est pas toujours facile de jouer avec les histogrammes. Voila\n",
    " pourquoi nous allons  introduire la\n",
    "fonction de répartition empirique. Si $X_1, \\ldots, X_n$ sont des\n",
    "variables indépendantes de même loi, alors la fonction de répartion \n",
    "$$ F_n(x)=F_n(x,\\omega) = \\frac{1}{n} \\sum_{1\\le i\\le n} 1_{X_i(\\omega)\n",
    "  \\le x}$$\n",
    "est en fait la fonction de répartition de la variable aléatoire\n",
    "$\\mu_n(\\omega)$ à valeurs probabilité, $\\mu_n(\\omega)= \\frac{1}{n}\n",
    "\\sum_{1\\le i\\le n} \\delta_{X_i(\\omega)}$ qui est appelée loi empirique\n",
    "de l'échantillon $(X_1, \\ldots, X_n)$. Par la loi forte des grands\n",
    "nombres, à $x$ réel fixé, on a la convergence presque sûre\n",
    "$$ F_n(x,\\omega) \\to F(x)\\, p.s.$$\n",
    "où $F$ est la fonction de répartition de la loi commune des $X_i$.\n",
    "\n",
    "Si la fonction $F$ est continue, alors il découle presque immédiatement du\n",
    " second lemme de Dini que la convergence est uniforme. En fait, il n'y\n",
    " a pas besoin que $F$ soit continue, c'est le théorème de\n",
    " Glivenko-Cantelli: presque sûrement $\\sup_{x\\in \\mathbb{R}}\n",
    "\\left|F_n(x,\\omega) -F(x)\\right|$ converge vers 0.\n"
   ]
  },
  {
   "cell_type": "markdown",
   "metadata": {},
   "source": [
    "On peut également montrer que la vitesse de convergence est de l'ordre\n",
    "de $\\sqrt{n}$. Andrei Kolmogorov a montré que \n",
    "$\\sqrt{n} \\sup_{x\\in\\mathbb{R}}\n",
    "\\left|F_n(x,\\omega) -F(x)\\right|$ convergeait en loi vers une variable aléatoire  $K$ dont\n",
    "la loi, appellée loi de Kolmogorov Smirnov, ne dépend pas de la loi de $X_1$.\n",
    "\n",
    "\n",
    "Voici une fonction qui dessine la fonction de répartition empirique"
   ]
  },
  {
   "cell_type": "code",
   "execution_count": 8,
   "metadata": {},
   "outputs": [
    {
     "data": {
      "text/plain": [
       "[<matplotlib.lines.Line2D at 0x2c00b0b4c88>]"
      ]
     },
     "execution_count": 8,
     "metadata": {},
     "output_type": "execute_result"
    },
    {
     "data": {
      "image/png": "[encoded data removed]",
      "text/plain": [
       "<Figure size 432x288 with 1 Axes>"
      ]
     },
     "metadata": {
      "needs_background": "light"
     },
     "output_type": "display_data"
    }
   ],
   "source": [
    "import statsmodels\n",
    "from statsmodels.distributions.empirical_distribution import ECDF\n",
    "\n",
    "x=rnd.poisson(lam=2,size=1000)\n",
    "ecdf=ECDF(x)\n",
    "plt.step(range(10),ecdf(range(10)))\n",
    "plt.step(np.arange(10),z.cdf(np.arange(10),2))"
   ]
  },
  {
   "cell_type": "markdown",
   "metadata": {},
   "source": [
    "  ### Les Moments\n",
    "  Il s'agit de comparer les moments empiriques aux moments de la loi\n",
    "cible.\n",
    "On se contente souvent de la moyenne et de la variance empirique.\n"
   ]
  },
  {
   "cell_type": "code",
   "execution_count": 9,
   "metadata": {},
   "outputs": [
    {
     "data": {
      "text/plain": [
       "(3.003, 2.884991)"
      ]
     },
     "execution_count": 9,
     "metadata": {},
     "output_type": "execute_result"
    }
   ],
   "source": [
    "x=rnd.poisson(lam=3,size=1000)\n",
    "x.mean(), x.var()"
   ]
  },
  {
   "cell_type": "markdown",
   "metadata": {},
   "source": [
    "### Méthode de la fonction quantile\n",
    "\n",
    "Reprendre le cours et/ou le TD qui expliquent la méthode.\n",
    "\n",
    "$\\color{red}{\\text{Ecrire une fonction appelée}}$ $\\color{green}{genexp}$ $\\color{red}{\\text{qui prend pour paramètres }}$ $\\color{red}{n\\in\\mathbb{N}^*}$ $\\color{red}{\\text{et}}$ $\\color{red}{l>0}$ \n",
    "$ \\color{red}{\\text{et\n",
    "  qui retourne un échantillon de taille}}$ $\\color{red}{n}$ $\\color{red}{\\text{de loi exponentielle de\n",
    "  paramètre}}$ $\\color{red}{l>0}$. \n",
    "  \n",
    "  $\\color{red}{\\text{ATTENTION: vous devez utiliser la méthode de la\n",
    "  fonction quantile}},$\n",
    "  $\\color{red}{\\text{pas la fonction rnd.exponential de la bibliothèque.}}$\n",
    "  \n",
    "  Voici en exemple une fonction qui retourne un echantillon de $n$ uniformes sur $[0,u]$. N'oubliez pas l'indentation chère à Python."
   ]
  },
  {
   "cell_type": "code",
   "execution_count": 10,
   "metadata": {},
   "outputs": [
    {
     "data": {
      "text/plain": [
       "array([0.253438  , 1.20337006, 0.83011171, 0.62979657, 0.52952203,\n",
       "       0.99152154, 0.34998878, 1.65761562, 0.84631381, 0.13794814])"
      ]
     },
     "execution_count": 10,
     "metadata": {},
     "output_type": "execute_result"
    }
   ],
   "source": [
    "def munif(n,u):\n",
    "    x=rnd.uniform(low=0.0,high=u,size=n)\n",
    "    return(x)\n",
    "\n",
    "munif(10,2)"
   ]
  },
  {
   "cell_type": "code",
   "execution_count": 11,
   "metadata": {},
   "outputs": [],
   "source": [
    "def genexp(n,l):\n",
    "    u = munif(n,1)\n",
    "    x =-(1/l)*(np.log(1-u))\n",
    "    return x"
   ]
  },
  {
   "cell_type": "markdown",
   "metadata": {},
   "source": [
    "$\\color{red}{\\text{Appliquer la fonction}}$ $\\color{green} {genexp}$ $\\color{red}{\\text{pour}}$ $\\color{red} {l=2.5}$ $\\color{red}{\\text{et simuler un échantillon\n",
    "  de taille}}$  $\\color{red} {n=100}$.\n",
    "  - $\\color{red}{\\text{tracer l'histogramme de l'échantillon}}$\n",
    "  - $\\color{red}{\\text{superposer la densité de la loi exponentielle de paramètre}}$ \n",
    "  $\\color{red} {l}$\n",
    "  - $\\color{red}{\\text{Calculer l'espérance de la loi et la comparer avec la moyenne\n",
    "    de l'échantillon simulé}}$ \n",
    "  - $\\color{red}{\\text{Calculer la variance de la loi et la comparer avec la\n",
    "    variance de l'échantillon simulé.}}$\n",
    "\n",
    "$\\color{red}{\\text{Recommencer avec}}$ $\\color{red} {n=5000}$ $\\color{red}{\\text{puis}}$ $\\color{red} {n=100 000}$.\n",
    " \n",
    " #### Consigne\n",
    " Insérez autant de cellules dont vous avez besoin en dessous de celle-ci pour réponre aux questions. Il existe deux types de cellule : markdown (text) et code (du code)."
   ]
  },
  {
   "cell_type": "code",
   "execution_count": 12,
   "metadata": {},
   "outputs": [
    {
     "data": {
      "text/plain": [
       "(array([1.91484143, 1.4642905 , 1.68956597, 1.4642905 , 1.12637731,\n",
       "        0.78846412, 0.45055092, 0.56318866, 0.33791319, 0.45055092,\n",
       "        0.11263773, 0.22527546, 0.11263773, 0.        , 0.        ,\n",
       "        0.22527546, 0.        , 0.11263773, 0.        , 0.22527546]),\n",
       " array([0.00273781, 0.09151801, 0.1802982 , 0.2690784 , 0.3578586 ,\n",
       "        0.4466388 , 0.53541899, 0.62419919, 0.71297939, 0.80175959,\n",
       "        0.89053978, 0.97931998, 1.06810018, 1.15688038, 1.24566057,\n",
       "        1.33444077, 1.42322097, 1.51200116, 1.60078136, 1.68956156,\n",
       "        1.77834176]),\n",
       " <a list of 20 Patch objects>)"
      ]
     },
     "execution_count": 12,
     "metadata": {},
     "output_type": "execute_result"
    },
    {
     "data": {
      "image/png": "[encoded data removed]",
      "text/plain": [
       "<Figure size 432x288 with 1 Axes>"
      ]
     },
     "metadata": {
      "needs_background": "light"
     },
     "output_type": "display_data"
    }
   ],
   "source": [
    "# Histogramme de l'échantillon pour l=2,5 et n=100\n",
    "n_100 = 100\n",
    "l = 2.5\n",
    "\n",
    "x_quantile = genexp(n_100, l)\n",
    "plt.hist(x_quantile, bins=20, density=True)"
   ]
  },
  {
   "cell_type": "code",
   "execution_count": 13,
   "metadata": {},
   "outputs": [
    {
     "data": {
      "text/plain": [
       "[<matplotlib.lines.Line2D at 0x2c00cce9438>]"
      ]
     },
     "execution_count": 13,
     "metadata": {},
     "output_type": "execute_result"
    },
    {
     "data": {
      "image/png": "[encoded data removed]",
      "text/plain": [
       "<Figure size 432x288 with 1 Axes>"
      ]
     },
     "metadata": {
      "needs_background": "light"
     },
     "output_type": "display_data"
    }
   ],
   "source": [
    "# Superposition de l'histogramme de l'échantillon et de la densité de la loi exponentielle de paramètre l\n",
    "plt.hist(x_quantile, bins=20, density=True)\n",
    "\n",
    "x = np.arange(start=0.01,stop=0.99,step=0.01)\n",
    "y = stats.expon.pdf(x,loc=0,scale=(1/l))\n",
    "plt.plot(x, y)"
   ]
  },
  {
   "cell_type": "code",
   "execution_count": 14,
   "metadata": {},
   "outputs": [
    {
     "name": "stdout",
     "output_type": "stream",
     "text": [
      "L'espérance de la loi vaut :  0.4\n",
      "La moyenne de l'échantillon simulé vaut :  0.4062859079395447\n",
      "L'espérance théorique vaut :  0.4\n"
     ]
    }
   ],
   "source": [
    "#Espérance de la loi et moyenne de l'échantillon simulé\n",
    "print(\"L'espérance de la loi vaut : \", stats.expon.mean(loc=0, scale=(1/l)))\n",
    "print(\"La moyenne de l'échantillon simulé vaut : \", x_quantile.mean())\n",
    "print(\"L'espérance théorique vaut : \", 1/l)"
   ]
  },
  {
   "cell_type": "markdown",
   "metadata": {},
   "source": [
    "Pour n=100, l'échantillon simulé a une moyenne proche de l'espérance de la loi (0.41 au lieu de 0.4)."
   ]
  },
  {
   "cell_type": "code",
   "execution_count": 15,
   "metadata": {},
   "outputs": [
    {
     "name": "stdout",
     "output_type": "stream",
     "text": [
      "La variance de la loi vaut :  0.16000000000000003\n",
      "La variance de l'échantillon simulé vaut :  0.13980046199209567\n",
      "La variance théorique vaut :  0.16\n"
     ]
    }
   ],
   "source": [
    "# Variances\n",
    "print(\"La variance de la loi vaut : \", stats.expon.var(loc=0, scale=(1/l)))\n",
    "print(\"La variance de l'échantillon simulé vaut : \", x_quantile.var())\n",
    "print(\"La variance théorique vaut : \", 1/(l**2))"
   ]
  },
  {
   "cell_type": "markdown",
   "metadata": {},
   "source": [
    "Pour n=100, la variance de l'échantillon simulé est proche de la variance de la loi (0.159 au lieu de 0.16)."
   ]
  },
  {
   "cell_type": "code",
   "execution_count": 16,
   "metadata": {},
   "outputs": [
    {
     "name": "stdout",
     "output_type": "stream",
     "text": [
      "L'espérance de la loi vaut :  0.4\n",
      "La moyenne de l'échantillon simulé vaut :  0.40240999889772766\n",
      "L'espérance théorique vaut :  0.4\n",
      "La variance de la loi vaut :  0.16000000000000003\n",
      "La variance de l'échantillon simulé vaut :  0.16649798940617266\n",
      "La variance théorique vaut :  0.16\n"
     ]
    },
    {
     "data": {
      "image/png": "[encoded data removed]",
      "text/plain": [
       "<Figure size 432x288 with 1 Axes>"
      ]
     },
     "metadata": {
      "needs_background": "light"
     },
     "output_type": "display_data"
    }
   ],
   "source": [
    "# Histogramme de l'échantillon pour l=2,5 et n=5000\n",
    "n_5000 = 5000\n",
    "x_quantile = genexp(n_5000, l)\n",
    "plt.hist(x_quantile, bins=20, density=True)\n",
    "\n",
    "# Densité de la loi exponentielle de paramètre l\n",
    "x = np.arange(start=0.01,stop=0.99,step=0.01)\n",
    "y = stats.expon.pdf(x,loc=0,scale=(1/l))\n",
    "plt.plot(x, y)\n",
    "\n",
    "#Espérance de la loi et moyenne de l'échantillon simulé\n",
    "print(\"L'espérance de la loi vaut : \", stats.expon.mean(loc=0, scale=(1/l)))\n",
    "print(\"La moyenne de l'échantillon simulé vaut : \", x_quantile.mean())\n",
    "print(\"L'espérance théorique vaut : \", 1/l)\n",
    "\n",
    "# Variances\n",
    "print(\"La variance de la loi vaut : \", stats.expon.var(loc=0, scale=(1/l)))\n",
    "print(\"La variance de l'échantillon simulé vaut : \", x_quantile.var())\n",
    "print(\"La variance théorique vaut : \", 1/(l**2))"
   ]
  },
  {
   "cell_type": "markdown",
   "metadata": {},
   "source": [
    "La moyenne et la variance de l'échantillon simulé sont plus proches de l'espérance et de la variance de la loi pour n=5000 que pour n=100."
   ]
  },
  {
   "cell_type": "code",
   "execution_count": 17,
   "metadata": {},
   "outputs": [
    {
     "name": "stdout",
     "output_type": "stream",
     "text": [
      "L'espérance de la loi vaut :  0.4\n",
      "La moyenne de l'échantillon simulé vaut :  0.39969078626873544\n",
      "L'espérance théorique vaut :  0.4\n",
      "La variance de la loi vaut :  0.16000000000000003\n",
      "La variance de l'échantillon simulé vaut :  0.15856059897577052\n",
      "La variance théorique vaut :  0.16\n"
     ]
    },
    {
     "data": {
      "image/png": "[encoded data removed]",
      "text/plain": [
       "<Figure size 432x288 with 1 Axes>"
      ]
     },
     "metadata": {
      "needs_background": "light"
     },
     "output_type": "display_data"
    }
   ],
   "source": [
    "# Histogramme de l'échantillon pour l=2,5 et n=100000\n",
    "n_100000 = 100000\n",
    "x_quantile = genexp(n_100000, l)\n",
    "plt.hist(x_quantile, bins=20, density=True)\n",
    "\n",
    "# Densité de la loi exponentielle de paramètre l\n",
    "x = np.arange(start=0.01,stop=0.99,step=0.01)\n",
    "y = stats.expon.pdf(x,loc=0,scale=(1/l))\n",
    "plt.plot(x, y)\n",
    "\n",
    "#Espérance de la loi et moyenne de l'échantillon simulé\n",
    "print(\"L'espérance de la loi vaut : \", stats.expon.mean(loc=0, scale=(1/l)))\n",
    "print(\"La moyenne de l'échantillon simulé vaut : \", x_quantile.mean())\n",
    "print(\"L'espérance théorique vaut : \", 1/l)\n",
    "\n",
    "# Variances\n",
    "print(\"La variance de la loi vaut : \", stats.expon.var(loc=0, scale=(1/l)))\n",
    "print(\"La variance de l'échantillon simulé vaut : \", x_quantile.var())\n",
    "print(\"La variance théorique vaut : \", 1/(l**2))"
   ]
  },
  {
   "cell_type": "markdown",
   "metadata": {},
   "source": [
    "Finalement, plus l'échantillon est de grande taille (n grand), plus l'échantillon simulé est proche de la loi exponentielle de paramètre l."
   ]
  },
  {
   "cell_type": "markdown",
   "metadata": {},
   "source": [
    "$\\color{red}{\\text{Reprendre les mêmes questions avec la loi de Cauchy standard qui\n",
    "  admet pour densité}}$ $\\color{red}{\\frac{1}{\\pi(1+x^2)}.}$  \n",
    "  \n",
    "  - $\\color{red}{\\text{ Que remarquez vous ?}}$\n",
    "  - $\\color{red}{\\text{ Utiliser en plus le\n",
    "  théorème de Glivenko-Cantelli pour valider  votre générateur.}}$"
   ]
  },
  {
   "cell_type": "code",
   "execution_count": 18,
   "metadata": {},
   "outputs": [
    {
     "data": {
      "text/plain": [
       "[<matplotlib.lines.Line2D at 0x2c00ceddd30>]"
      ]
     },
     "execution_count": 18,
     "metadata": {},
     "output_type": "execute_result"
    },
    {
     "data": {
      "image/png": "[encoded data removed]",
      "text/plain": [
       "<Figure size 432x288 with 1 Axes>"
      ]
     },
     "metadata": {
      "needs_background": "light"
     },
     "output_type": "display_data"
    }
   ],
   "source": [
    "def gencauchy(n):\n",
    "    u = munif(n,1)\n",
    "    x = np.tan((np.pi)*u-((np.pi)/2))\n",
    "    return x\n",
    "\n",
    "# Histogramme de l'échantillon pour n=100\n",
    "n_100 = 100\n",
    "x_quantile_cauchy = gencauchy(n_100)\n",
    "plt.hist(x_quantile_cauchy, bins=20, density=True)\n",
    "\n",
    "# Densité de la loi de Cauchy\n",
    "x_cauchy = np.arange(start=-5,stop=5,step=0.1)\n",
    "y_cauchy = stats.cauchy.pdf(x_cauchy)\n",
    "plt.plot(x_cauchy, y_cauchy)"
   ]
  },
  {
   "cell_type": "code",
   "execution_count": 19,
   "metadata": {},
   "outputs": [
    {
     "name": "stdout",
     "output_type": "stream",
     "text": [
      "L'espérance de la loi vaut :  nan\n",
      "La moyenne de l'échantillon simulé vaut :  0.39969078626873544\n",
      "La variance de la loi vaut :  nan\n",
      "La variance de l'échantillon simulé vaut :  0.15856059897577052\n"
     ]
    }
   ],
   "source": [
    "#Espérance de la loi et moyenne de l'échantillon simulé\n",
    "print(\"L'espérance de la loi vaut : \", stats.cauchy.mean())\n",
    "print(\"La moyenne de l'échantillon simulé vaut : \", x_quantile.mean())\n",
    "\n",
    "# Variances\n",
    "print(\"La variance de la loi vaut : \", stats.cauchy.var())\n",
    "print(\"La variance de l'échantillon simulé vaut : \", x_quantile.var())"
   ]
  },
  {
   "cell_type": "markdown",
   "metadata": {},
   "source": [
    "Je remarque que l'échantillon possède une moyenne de 1.39 alors que la loi n'admet pas d'espérance. De plus, l'échantillon possède une variance très élevée (88.4) alors que la loi n'admet pas de variance."
   ]
  },
  {
   "cell_type": "code",
   "execution_count": 20,
   "metadata": {},
   "outputs": [
    {
     "data": {
      "text/plain": [
       "[<matplotlib.lines.Line2D at 0x2c00cfa3f28>]"
      ]
     },
     "execution_count": 20,
     "metadata": {},
     "output_type": "execute_result"
    },
    {
     "data": {
      "image/png": "[encoded data removed]",
      "text/plain": [
       "<Figure size 432x288 with 1 Axes>"
      ]
     },
     "metadata": {
      "needs_background": "light"
     },
     "output_type": "display_data"
    }
   ],
   "source": [
    "x_cauchy = rnd.standard_cauchy(size=n_100)\n",
    "\n",
    "#Fonction de répartition empirique de la loi de Cauchy\n",
    "ecdf_cauchy = ECDF(x_quantile_cauchy)\n",
    "\n",
    "z_cauchy = stats.cauchy()\n",
    "\n",
    "# Courbe bleu en escalier de la fonction de répartition empirique sur [0,10]\n",
    "plt.step(range(10),ecdf(range(10)))\n",
    "\n",
    "# Courbe orange en escalier de la fonction de répartition d'une loi de Cauchy sur [0,10]\n",
    "plt.step(np.arange(10),z.cdf(np.arange(10),2))"
   ]
  },
  {
   "cell_type": "code",
   "execution_count": 21,
   "metadata": {},
   "outputs": [
    {
     "data": {
      "text/plain": [
       "[<matplotlib.lines.Line2D at 0x2c00ceb0828>]"
      ]
     },
     "execution_count": 21,
     "metadata": {},
     "output_type": "execute_result"
    },
    {
     "data": {
      "image/png": "[encoded data removed]",
      "text/plain": [
       "<Figure size 432x288 with 1 Axes>"
      ]
     },
     "metadata": {
      "needs_background": "light"
     },
     "output_type": "display_data"
    }
   ],
   "source": [
    "# Courbe de la valeur absolue de la différence entre la fonction de répartition empirique de l'échantillon simulé\n",
    "#et la fonction de répartition de la loi de Cauchy\n",
    "plt.step(range(10),np.abs(ecdf(range(10))-z.cdf(range(10),2)))"
   ]
  },
  {
   "cell_type": "markdown",
   "metadata": {},
   "source": [
    "La borne supérieure de la valeur absolue de la différence entre la fonction de répartition empirique de l'échantillon simulé et la fonction de répartition de la loi de Cauchy tend vers 0 quand la taille de l'échantillon (n) tend vers l'infini. Ainsi, d'après le théorème de Glivenko-Cantelli, la fonction de répartition empirique de l'échantillon simulé concorde bien avec la fonction de répartition empirique de la loi de Cauchy et on peut valider notre générateur."
   ]
  },
  {
   "cell_type": "code",
   "execution_count": null,
   "metadata": {},
   "outputs": [],
   "source": []
  }
 ],
 "metadata": {
  "kernelspec": {
   "display_name": "Python 3",
   "language": "python",
   "name": "python3"
  },
  "language_info": {
   "codemirror_mode": {
    "name": "ipython",
    "version": 3
   },
   "file_extension": ".py",
   "mimetype": "text/x-python",
   "name": "python",
   "nbconvert_exporter": "python",
   "pygments_lexer": "ipython3",
   "version": "3.7.7"
  }
 },
 "nbformat": 4,
 "nbformat_minor": 1
}

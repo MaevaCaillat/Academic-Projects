{
 "cells": [
  {
   "cell_type": "markdown",
   "metadata": {},
   "source": [
    "# Contrôle Continu de Méthodes Numériques Probabilistes\n",
    "### 10 Janvier 2020"
   ]
  },
  {
   "cell_type": "code",
   "execution_count": 1,
   "metadata": {},
   "outputs": [],
   "source": [
    "%matplotlib inline\n",
    "from math import *\n",
    "import numpy as  np  \n",
    "import scipy as sp\n",
    "from pylab import *\n",
    "from numpy import random as rd\n",
    "from numpy.linalg import norm"
   ]
  },
  {
   "cell_type": "markdown",
   "metadata": {},
   "source": [
    "<span style=\"color: #fb4141\">Saimourya SURABHI et Maéva CAILLAT</span>"
   ]
  },
  {
   "cell_type": "markdown",
   "metadata": {},
   "source": [
    "## Exercice 1."
   ]
  },
  {
   "cell_type": "markdown",
   "metadata": {},
   "source": [
    "On considère dans cet exercice une méthode d'estimation du nombre $\\pi$ reposant sur le calcul de l'aire d'un quart de disque. On note $B = [0,1]\\times[0,1]$ et $A= B\\cap B(0,1)$, où $B(0,1)$ est le disque centré en 0 et de rayon 1. \n",
    "\n",
    "> **Question 1.** Ecrire une fonction qui retourne $n$ réalisations indépendantes de la loi uniforme sur $A$."
   ]
  },
  {
   "cell_type": "code",
   "execution_count": 3,
   "metadata": {},
   "outputs": [
    {
     "data": {
      "text/plain": [
       "array([[0.41377516, 0.1372329 ],\n",
       "       [0.39788443, 0.31870765],\n",
       "       [0.29769084, 0.5949891 ],\n",
       "       [0.53316579, 0.80744865],\n",
       "       [0.92042238, 0.26522456],\n",
       "       [0.21369789, 0.89562075],\n",
       "       [0.65899686, 0.69169034],\n",
       "       [0.19350038, 0.11238798],\n",
       "       [0.21305187, 0.31206687],\n",
       "       [0.10897857, 0.04302939]])"
      ]
     },
     "execution_count": 3,
     "metadata": {},
     "output_type": "execute_result"
    }
   ],
   "source": [
    "def unifA(n) : \n",
    "    A = []\n",
    "    c = 0\n",
    "    while(c<n):\n",
    "        x = rd.uniform(0,1,2)\n",
    "        if (norm(x)<=1):\n",
    "            A.append(x)\n",
    "            c += 1\n",
    "    return(np.asarray(A))\n",
    "\n",
    "unifA(10)"
   ]
  },
  {
   "cell_type": "markdown",
   "metadata": {},
   "source": [
    "> **Question 2.** Quelle est la loi de ${\\mathbf{1}}_{U\\in A}$ où $U$ est une variable aléatoire suivant la loi uniforme sur $B$ ?"
   ]
  },
  {
   "cell_type": "markdown",
   "metadata": {},
   "source": [
    "<font color='blue'>\n",
    "Soit $X={\\mathbf{1}}_{U\\in A}$, $X \\sim Bernouilli(p)$ <br> \n",
    "Déterminons p.\n",
    "$$\n",
    "p = E(X) = \\int_B {\\mathbf{1}}_{u\\in A}d{P}_U (u)\n",
    "$$\n",
    "\n",
    "$X$ est une variable aléatoire positive donc on peut appliquer le théorème de Fubini positif :\n",
    "$$\n",
    "p = \\int_0^1 \\int_0^1 {\\mathbf{1}}_{u_1^2+u_2^2 \\leq 1} du_2 du_1 \n",
    "= \\int_0^1 \\int_0^{\\sqrt{1-u_1^2}} du_2 du_1 \n",
    "= \\int_0^1 \\sqrt{1-u_1^2} du_1\n",
    "$$\n",
    "Avec le changement de variable $u_1 = sin(y)$, on a :\n",
    "$$\n",
    "p = \\int_0^{\\frac{\\pi}{2}} cos(y)^2 dy = \\int_0^{\\frac{\\pi}{2}} \\frac{1+cos(2y)}{2} dy = [\\frac{y}{2} + \\frac{sin(2y)}{4}]_0^{\\frac{\\pi}{2}}\n",
    "= \\frac{\\pi}{4}\n",
    "$$\n",
    "Ainsi, ${\\mathbf{1}}_{U\\in A} \\sim Bernouilli(\\frac{\\pi}{4})$.\n",
    "\n"
   ]
  },
  {
   "cell_type": "markdown",
   "metadata": {},
   "source": [
    "> **Question 3.** En déduire un estimateur de $\\pi$ utilisant $n$ réalisations i.i.d. selon la loi uniforme sur $A$, qu'on notera $\\hat\\pi_n$. Quelle est la variance de cet estimateur ?"
   ]
  },
  {
   "cell_type": "markdown",
   "metadata": {},
   "source": [
    "<font color='blue'>\n",
    "    \n",
    "Soit $U_1, ..., U_n$ n variables aléatoires i.i.d. qui suivent la loi uniforme sur A. <br>\n",
    "D'après la loi forte des grands nombres appliquée à ${\\mathbf{1}}_{U\\in A}$, \n",
    "$\\frac{1}{n} \\sum \\limits_{k=1}^n {\\mathbf{1}}_{U_k\\in A}\n",
    "\\underset{n \\to +\\infty}{\\overset{p.s.}{\\longrightarrow}} E({\\mathbf{1}}_{U\\in A}) = p = \\frac{\\pi}{4} $ <br>\n",
    "    \n",
    "Un estimateur sans biais $\\hat{\\pi}_n$ de $\\pi$ est : $\\hat{\\pi}_n = \\frac{4}{n} \\sum \\limits_{k=1}^n {\\mathbf{1}}_{U_k\\in A}$.\n",
    "<br>\n",
    "$Var(\\hat\\pi_n) = \\frac{16}{n^2} Var(\\sum_{k=1}^n \\mathbf{1}_{U_k \\in A}) \n",
    "= \\frac{16}{n} Var(\\mathbf{1}_{U_1 \\in A}) = \\frac{16}{n} \\frac{\\pi}{4} (1 - \\frac{\\pi}{4})$ <br>\n",
    "Donc,\n",
    "$$\n",
    "Var(\\hat\\pi_n) = \\frac{4\\pi}{n}(1 - \\frac{\\pi}{4}) \\simeq \\frac{2.7}{n}\n",
    "$$"
   ]
  },
  {
   "cell_type": "markdown",
   "metadata": {},
   "source": [
    "> **Question 4.**  Tracer une trajectoire de l'estimateur $\\hat\\pi_n$ en fonction de $n$. Qu'observez-vous ? Quelle loi statistique permet d'expliquer ce phénomène ?"
   ]
  },
  {
   "cell_type": "code",
   "execution_count": 4,
   "metadata": {
    "scrolled": true
   },
   "outputs": [
    {
     "data": {
      "text/plain": [
       "[<matplotlib.lines.Line2D at 0x24303a68e48>]"
      ]
     },
     "execution_count": 4,
     "metadata": {},
     "output_type": "execute_result"
    },
    {
     "data": {
      "image/png": "[encoded data removed]",
      "text/plain": [
       "<Figure size 432x288 with 1 Axes>"
      ]
     },
     "metadata": {
      "needs_background": "light"
     },
     "output_type": "display_data"
    }
   ],
   "source": [
    "def pi_n(n):\n",
    "    c = 0\n",
    "    for k in range(n):\n",
    "        U = rd.uniform(0,1,2)\n",
    "        if (norm(U)<=1):\n",
    "            c += 1\n",
    "    p = 4*c/n\n",
    "    return(p)\n",
    "\n",
    "n = 500\n",
    "plt.xlabel(\"n\")\n",
    "plt.ylabel(\"$\\hat \\pi_n)$\")\n",
    "plt.plot([pi_n(i) for i in range(1,n+1)])\n",
    "plt.plot([np.pi for i in range(1,n+1)])"
   ]
  },
  {
   "cell_type": "markdown",
   "metadata": {},
   "source": [
    "<font color='blue'>\n",
    "    \n",
    "$\\hat \\pi_n$ semble converger vers $\\pi$ quand n tend vers $+\\infty$\n",
    "En effet, d'après la loi forte des grands nombres, \n",
    "$\\hat \\pi_n\n",
    "\\underset{n \\to +\\infty}{\\overset{p.s.}{\\longrightarrow}} \\pi $"
   ]
  },
  {
   "cell_type": "markdown",
   "metadata": {},
   "source": [
    "> **Question 5.**  Donner l'expression de 4 intervalles de confiance de niveau de confiance $1-\\alpha$ avec $\\alpha = 0.05$ pour $\\pi$ à partir de $\\hat\\pi_n$ en utilisant (i) l'inégalité de Chebychev, (ii) le théorème central limite, (iii) l'inégalité de Hoeffding et (iv) l'inégalité de Bernstein. On discutera dans chaque cas les conditions d'application de l'inégalité. Estimer ces intervalles de confiance pour $n=1000$."
   ]
  },
  {
   "cell_type": "markdown",
   "metadata": {},
   "source": [
    "<font color='blue'>\n",
    "   \n",
    "(i) Par l'inégalité de Chebychev\n",
    "\n",
    "Condition d'application de l'inégalité : $Var(\\hat\\pi_n) < +\\infty$\n",
    "$$\n",
    "P(|\\hat\\pi_n-\\pi| \\geq t) \\leq \\frac{Var(\\hat\\pi_n)}{t^2}\n",
    "= \\frac{4\\pi}{n t^2}(1 - \\frac{\\pi}{4})\n",
    "$$\n",
    "<br>\n",
    "On veut obtenir :\n",
    "$$\n",
    "P(|\\hat\\pi_n-\\pi| \\geq t_\\alpha) \\leq \\alpha\n",
    "$$\n",
    "On prend donc :\n",
    "$$\n",
    "\\alpha = \\frac{4\\pi}{n t^2}(1 - \\frac{\\pi}{4})\n",
    "$$\n",
    "$$\n",
    "t_\\alpha = \\sqrt{\\frac{\\pi(4-\\pi)}{n\\alpha}}\n",
    "$$\n",
    "<br>\n",
    "Comme on cherche à estimer $\\pi$, on prend plutôt : $\\hat t_\\alpha = \\sqrt{\\frac{\\hat\\pi_n(4-\\hat\\pi_n)}{n\\alpha}}$.\n",
    "\n",
    "On a donc l'intervalle de confiance de niveau $1-\\alpha$ suivant:\n",
    "$$\n",
    "I_n^{chebychev} = \\left[\\hat\\pi_n-\\sqrt{\\frac{\\hat\\pi_n(4-\\hat\\pi_n)}{n\\alpha}},\\hat\\pi_n+\\sqrt{\\frac{\\hat\\pi_n(4-\\hat\\pi_n)}{n\\alpha}}\\right]\n",
    "$$\n",
    "<br>\n",
    "    \n",
    "(ii) Par le théorème centrale limite (TCL)\n",
    "\n",
    "Conditions d'application de l'inégalité :\n",
    "- $X_i = \\mathbf{1}_{U_i\\in A}$ admettent un moment d'ordre et $4 \\overline{X_n} = \\hat\\pi_n$.\n",
    "- $\\mathbf{1}_{U_i\\in A}$ sont des variables aléatoires i.i.d.\n",
    "\n",
    "D'après le TCL, on a :\n",
    "$$\n",
    "\\sqrt n \\frac{\\overline{X_n}-E(X)}{\\sqrt{Var(X)}} \\underset{n \\to +\\infty}{\\overset{Loi}{\\longrightarrow}} Z \\sim \\mathcal{N}(0,1)\n",
    "$$\n",
    "d'où\n",
    "$$\n",
    "\\frac{\\hat\\pi_n-\\pi}{\\sqrt{Var(\\hat\\pi_n)}} \\underset{n \\to +\\infty}{\\overset{Loi}{\\longrightarrow}} Z \\sim \\mathcal{N}(0,1)\n",
    "$$\n",
    "<br>\n",
    "Un intervalle de confiance de niveau $1-\\alpha$ de Z est :\n",
    "<br>\n",
    "$$\n",
    "P(|Z| \\geq q_{1-\\frac{\\alpha}{2}}) = \\alpha\n",
    "$$\n",
    "<br>\n",
    "Ainsi un intervalle de confiance de niveau $1-\\alpha$ de $\\pi$ est :\n",
    "$$\n",
    "I_n^{TCL} = \\left[\\hat\\pi_{n} - \\sqrt{\\frac{\\hat\\pi_n(4-\\hat\\pi_n)}{n}}q_{1-\\frac{\\alpha}{2}},\\hat\\pi_n+\\sqrt{\\frac{\\hat\\pi_n(4-\\hat\\pi_n)}{n}}q_{1-\\frac{\\alpha}{2}}\\right]\n",
    "$$\n",
    "<br>\n",
    "<br>\n",
    "\n",
    "(iii) Par l'inégalité de Hoeffding\n",
    "\n",
    "Conditions d'application de l'inégalité :\n",
    "- $X_i = \\mathbf{1}_{U \\in A}$ doit être borné, ce qui est le cas car à valeurs dans $[0,1]$.\n",
    "- Les $X_i$ sont indépendantes.\n",
    "- Les $X_i$ admettent un moment d'ordre 1.\n",
    "\n",
    "Dans le cas i.i.d, on a :\n",
    "<br>\n",
    "$$\n",
    "P(|\\hat\\pi_n - \\pi| \\geq t) \\leq 2 \\exp\\left(\\frac{-n t^2}{2 \\hat\\pi_n(4-\\hat\\pi_n)}\\right)\n",
    "$$\n",
    "<br>\n",
    "Pour $t_\\alpha = \\sqrt{\\frac{2 \\hat\\pi_n (4-\\hat\\pi_n)\\ln(2/\\alpha)}{n}}$, on a alors :\n",
    "<br>\n",
    "$$\n",
    "P(|\\hat\\pi_n - \\pi| \\geq t_\\alpha) \\leq \\alpha\n",
    "$$\n",
    "<br>\n",
    "D'où l'intervalle de confiance suivant pour $\\pi$ :\n",
    "<br>\n",
    "<br>\n",
    "$$\n",
    "I_n^{Hoeffding} = \\left[\\hat\\pi_{n} - \\sqrt{\\frac{2 \\hat\\pi_n (4-\\hat\\pi_n)\\ln(2/\\alpha)}{n}},\\hat\\pi_n+\\sqrt{\\frac{2 \\hat\\pi_n (4-\\hat\\pi_n)\\ln(2/\\alpha)}{n}}\\right]\n",
    "$$\n",
    "<br>\n",
    "<br>\n",
    "    \n",
    "(iv) Par l'inégalité de Bernstein\n",
    "\n",
    "Conditions (suffisantes) d'application de l'inégalité :\n",
    "- $X_i = \\mathbf{1}_{U \\in A}$ doit être borné, ce qui est le cas car à valeurs dans $[0,1]$.\n",
    "- $Var(X) = \\tau ^2$ avec $\\tau = \\frac{\\sqrt{\\pi(4-\\pi)}}{4}$.\n",
    "- $|X - E(X)| \\leq b$ avec $b = \\frac{\\pi}{4}$.\n",
    "\n",
    "Dans le cas i.i.d, on a :\n",
    "<br>\n",
    "$$\n",
    "P(|\\hat\\pi_n - \\pi| \\geq t) \\leq 2 \\exp\\left(\\frac{-n t^2}{2 \\hat\\pi_n(4-\\hat\\pi_n+t)}\\right)\n",
    "$$\n",
    "<br>"
   ]
  },
  {
   "cell_type": "code",
   "execution_count": 5,
   "metadata": {},
   "outputs": [
    {
     "name": "stdout",
     "output_type": "stream",
     "text": [
      "Valeur de l'estimateur :  3.212\n",
      "L'intervalle de confiance de pi par Chebychev est :  [2.987008622387435, 3.4369913776125656]\n",
      "L'intervalle de confiance de pi par le TCL est :  [3.113393181120168, 3.3106068188798323]\n",
      "L'intervalle de confiance de pi par Hoeffding est :  [3.075348907976469, 3.3486510920235313]\n"
     ]
    }
   ],
   "source": [
    "n = 1000\n",
    "alpha = 0.05\n",
    "\n",
    "x = pi_n(n)\n",
    "\n",
    "t_che = np.sqrt(x*(4-x)/(n*alpha))\n",
    "t_tcl = np.sqrt(x*(4-x)/n)*1.96\n",
    "t_hoef = np.sqrt((2*x*(4-x)*np.log(2/alpha))/n)\n",
    "\n",
    "I_che = [x-t_che, x+t_che]\n",
    "I_tcl = [x-t_tcl, x+t_tcl]\n",
    "I_hoef = [x-t_hoef, x+t_hoef]\n",
    "\n",
    "print(\"Valeur de l'estimateur : \", x)\n",
    "print(\"L'intervalle de confiance de pi par Chebychev est : \", I_che)\n",
    "print(\"L'intervalle de confiance de pi par le TCL est : \", I_tcl)\n",
    "print(\"L'intervalle de confiance de pi par Hoeffding est : \", I_hoef)"
   ]
  },
  {
   "cell_type": "markdown",
   "metadata": {},
   "source": [
    "> **Question 6.**  Pour quelle valeur de $n$ l'inégalité de Hoeffding permet-elle d'obtenir un intervalle de confiance de niveau $1-\\alpha = 0.95$ et de longueur 0.01 ? Vérifier numériquement."
   ]
  },
  {
   "cell_type": "markdown",
   "metadata": {},
   "source": [
    "Il faut que $2 \\sqrt{\\frac{2 \\hat\\pi_n (4-\\hat\\pi_n)\\ln(2/\\alpha)}{n}} = 0.01 = l$\n",
    "Soit :\n",
    "$$\n",
    "n = \\frac{8 \\hat\\pi_n (4-\\hat\\pi_n) \\ln(2/\\alpha)}{l^2} \\approx 795843\n",
    "$$"
   ]
  },
  {
   "cell_type": "code",
   "execution_count": 6,
   "metadata": {},
   "outputs": [
    {
     "name": "stdout",
     "output_type": "stream",
     "text": [
      "L'intervalle de confiance de pi par Hoeffding est :  [3.207156052736646, 3.2168439472633543]\n",
      "La longueur de cet intervalle est :  0.009687894526707898\n"
     ]
    }
   ],
   "source": [
    "n = 795843\n",
    "\n",
    "t_hoef = np.sqrt((2*x*(4-x)*np.log(2/alpha))/n)\n",
    "I_hoef = [x-t_hoef, x+t_hoef]\n",
    "print(\"L'intervalle de confiance de pi par Hoeffding est : \", I_hoef)\n",
    "print(\"La longueur de cet intervalle est : \", 2*t_hoef)"
   ]
  },
  {
   "cell_type": "markdown",
   "metadata": {},
   "source": [
    "## Exercice 2"
   ]
  },
  {
   "cell_type": "markdown",
   "metadata": {},
   "source": [
    "On considère ici une méthode pour estimer le nombre $\\pi$ qui repose sur le calcul de l'intégrale de la fonction $f:x\\mapsto\\frac{1}{1+x^2}$ entre 0 et 1."
   ]
  },
  {
   "cell_type": "markdown",
   "metadata": {},
   "source": [
    "> **Question 1.** Calculer théoriquement la valeur de $I = \\int_{0}^{1}f(x) dx$."
   ]
  },
  {
   "cell_type": "markdown",
   "metadata": {},
   "source": [
    "<font color='blue'>\n",
    "$$\n",
    "I = \\int_{0}^{1}f(x) dx = [\\arctan(x)]_0^1 = \\frac{\\pi}{4}\n",
    "$$"
   ]
  },
  {
   "cell_type": "markdown",
   "metadata": {},
   "source": [
    "> **Question 2.** En interprétant $I$ comme une espérance, proposer un estimateur sans biais $\\hat I_n$ de $\\pi$."
   ]
  },
  {
   "cell_type": "markdown",
   "metadata": {},
   "source": [
    "<font color='blue'>\n",
    "    \n",
    "Soit $X_{1}, ..., X_{n}$ des variables aléatoires i.i.d. qui suivent $U(0,1)$. Alors $I = E(f(X_{1}))$ <br>\n",
    "D'après la loi forte des grands nombres, $\\frac{1}{n} \\sum \\limits_{k=1}^n f(X_{k}) \\underset{n \\to +\\infty}{\\overset{p.s.}{\\longrightarrow}} I $ <br>\n",
    "On propose donc comme estimateur sans biais $\\hat{I}_n$ de $\\pi$ : $\\hat{I}_n = \\frac{4}{n} \\sum \\limits_{k=1}^n f(X_{k})$."
   ]
  },
  {
   "cell_type": "markdown",
   "metadata": {},
   "source": [
    "> **Question 3.** \n",
    "\n",
    "> **3.a**  Calculer la variance théorique de l'estimateur $\\hat I_n$. Indication: on cherchera à déterminer deux réels $a$ et $b$ tels que $\\int_{0}^x\\frac{1}{(1+y^2)^2} dy = a\\left(b\\frac{x}{1+x^2}+\\arctan(x)\\right)$."
   ]
  },
  {
   "cell_type": "markdown",
   "metadata": {},
   "source": [
    "<font color='blue'>\n",
    "$$\n",
    "Var(\\hat{I}_n) = \\frac{16}{n} (E(f(X_1)^2)-E(f(X_1))^2)\n",
    "$$ <br>\n",
    "$$\n",
    "\\int_{0}^x f^2\n",
    "= \\int_{0}^x\\frac{1}{(1+y^2)^2} dy\n",
    "= \\int_{0}^x\\frac{1+y^2-y^2}{(1+y^2)^2}dy\n",
    "= \\int_{0}^x\\left(\\frac{1}{1+y^2}-\\frac{y^2}{(1+y^2)^2}\\right)dy\n",
    "= \\arctan(x) - \\int_{0}^x \\frac{y^2}{(1+y^2)^2}dy\n",
    "$$ <br> <br>\n",
    "Soit $g(y) = \\frac{y}{1+y^2}$ alors $g'(y) = \\frac{1-y^2}{(1+y^2)^2}$ <br>\n",
    "$$\n",
    "- \\int_{0}^x \\frac{y^2}{(1+y^2)^2}dy \n",
    "= \\int_{0}^x \\frac{1-y^2-1}{(1+y^2)^2}dy\n",
    "= \\int_{0}^xg' - \\int_{0}^x f^2\n",
    "$$ <br><br>\n",
    "d'où :\n",
    "$$\n",
    "\\int_{0}^x f^2 = \\arctan(x) + \\int_{0}^x g' -\\int_{0}^x f^2\n",
    "= \\frac{1}{2} ( \\arctan(x) + \\frac{x}{1+x^2} )$$\n",
    "donc a = $\\frac{1}{2}$ et b = 1 <br>\n",
    "On a alors :\n",
    "$$\n",
    "Var(\\hat{I}_n) \n",
    "= \\frac{16}{n}(\\frac{1}{2}(\\frac{1}{1+1^2}+arctan(1))-\\frac{\\pi^2}{16})\n",
    "= \\frac{1}{n}(4+2\\pi - \\pi^2)\n",
    "$$\n",
    "  "
   ]
  },
  {
   "cell_type": "markdown",
   "metadata": {},
   "source": [
    "> **3.b** Rappeler l'expression de l'estimateur sans biais de la variance."
   ]
  },
  {
   "cell_type": "markdown",
   "metadata": {},
   "source": [
    "<font color='blue'>\n",
    "\n",
    "On pose $\\forall i$  $Y_i = f(X_i)$, on a donc pour l'estimateur sans biais de la variance de $Y_{i}$:\n",
    "$$\n",
    "S^2_n = \\frac{1}{n-1}\\sum_{i=1}^n(Y_i-\\overline{Y_n})^2 \n",
    "= \\frac{1}{n-1} \\sum_{i=1}^n Y_i^2 - \\frac{n}{n-1} \\overline{Y_n}^2\n",
    "\\underset{n \\to +\\infty}{\\overset{L}{\\longrightarrow}} Var(Y) \n",
    "= \\frac{n}{16}Var(\\hat{I}_n)\n",
    "$$"
   ]
  },
  {
   "cell_type": "markdown",
   "metadata": {},
   "source": [
    "> **3.c** Illustrer la convergence de cet estimateur sans biais de la variance vers la valeur théorique de la variance de $\\hat I_n$."
   ]
  },
  {
   "cell_type": "code",
   "execution_count": 7,
   "metadata": {},
   "outputs": [
    {
     "data": {
      "text/plain": [
       "<matplotlib.legend.Legend at 0x24303fb7668>"
      ]
     },
     "execution_count": 7,
     "metadata": {},
     "output_type": "execute_result"
    },
    {
     "data": {
      "image/png": "[encoded data removed]",
      "text/plain": [
       "<Figure size 432x288 with 1 Axes>"
      ]
     },
     "metadata": {
      "needs_background": "light"
     },
     "output_type": "display_data"
    }
   ],
   "source": [
    "n = 100\n",
    "\n",
    "def f(x):\n",
    "    return(1/(1+x**2))\n",
    "    \n",
    "def Yn_bar(n):\n",
    "    Yn = 0\n",
    "    x = rd.uniform(0,1,n)\n",
    "    for i in range(n):\n",
    "        Yn += f(x[i])\n",
    "    Yn = Yn/n\n",
    "    return(Yn)\n",
    "\n",
    "def Sn2(n):\n",
    "    S = 0\n",
    "    y = Yn_bar(n)\n",
    "    x = rd.uniform(0,1,n)\n",
    "    for i in range(n):\n",
    "        S += (f(x[i])-y)**2\n",
    "    S = (1/(n-1))*S\n",
    "    return(S)\n",
    "\n",
    "def var_theo(n):\n",
    "    v = (1/n)*(4+2*np.pi-(np.pi)**2)\n",
    "    return(v)\n",
    "\n",
    "plt.xlabel(\"n\")\n",
    "plt.ylabel(\"$Var(\\hat I_n)$\")\n",
    "plt.plot([var_theo(i) for i in range(2,n+2)])\n",
    "plt.plot([(16/i)*Sn2(i) for i in range(2,n+2)])\n",
    "plt.legend([\"Variance théorique de $\\hat I_n$\",\"Variance de l'estimateur de $\\hat I_n$\"])"
   ]
  },
  {
   "cell_type": "markdown",
   "metadata": {},
   "source": [
    "> **3.d** Quels théorèmes vous permettent de justifier cette convergence ?"
   ]
  },
  {
   "cell_type": "markdown",
   "metadata": {},
   "source": [
    "<font color='blue'>\n",
    "\n",
    "$$\n",
    "S^2_n = \\frac{1}{n-1} \\sum_{i=1}^n Y_i^2 - \\frac{n}{n-1} \\overline{Y_n}^2\n",
    "$$\n",
    "D'après la loi forte des grands nombres appliquée à $Y^2$ :\n",
    "$$\n",
    "\\frac{1}{n-1} \\sum_{i=1}^n Y_i^2 \n",
    "\\underset{n \\to +\\infty}{\\overset{p.s.}{\\longrightarrow}} E(Y^2)\n",
    "$$\n",
    "D'après la loi forte des grands nombres appliquée à Y et comme la convergence presque sûre implique la convergence en loi :\n",
    "$$\n",
    "\\overline{Y_n}^2 \n",
    "\\underset{n \\to +\\infty}{\\overset{L}{\\longrightarrow}} E(Y)^2\n",
    "$$\n",
    "$$\n",
    "\\frac{n}{n-1} \\underset{n \\to +\\infty}{\\overset{p}{\\longrightarrow}} 1\n",
    "$$\n",
    "Donc d'après le théorème de Slutsky :\n",
    "$$\n",
    "\\frac{n}{n-1} \\overline{Y_n}^2\n",
    "\\underset{n \\to +\\infty}{\\overset{L}{\\longrightarrow}} E(Y)^2\n",
    "$$\n",
    "D'où :\n",
    "$$\n",
    "S^2_n \\underset{n \\to +\\infty}{\\overset{L}{\\longrightarrow}} Var(Y)\n",
    "$$"
   ]
  },
  {
   "cell_type": "markdown",
   "metadata": {},
   "source": [
    "**Méthodes de réduction de variance.**\n",
    "\n",
    "Afin de réduire la variance de l'estimateur précédent, on se propose d'appliquer trois techniques de réduction de variance: la première étant la méthode d'échantillonnage avec des variables antithétiques, la seconde étant la méthode de stratification, la troisième une méthode de variable de contrôle."
   ]
  },
  {
   "cell_type": "markdown",
   "metadata": {},
   "source": [
    "> **Question 4.** **Variables antithétiques.**\n",
    "\n",
    "> **4.a** Rappeler brièvement le princide de cette méthode. Quelles variables antithétiques proposez-vous ici ? Donner l'expression du nouvel estimateur de $\\pi$, qu'on note $\\hat I^{VA}_n$."
   ]
  },
  {
   "cell_type": "markdown",
   "metadata": {},
   "source": [
    "<font color='blue'>\n",
    "Soit $(X_1,...,X_{n/2})$ un $\\frac{n}{2}$-échantillon de $U(0,1)$. On définit un autre $\\frac{n}{2}$-échantillon de même loi $(X'_1,...,X'_{n/2})$ tel que $\\forall i$ $X'_i = 1 - X_i$. Ainsi les variables antithétiques sont les $(X_{i})$ et les $(X'_{i})$. <br>\n",
    "Le nouvel estimateur sans biais de $\\pi$ est : \n",
    "$$\n",
    "\\hat I^{VA}_n = \\frac{4}{n} \\sum_{i=1}^{n/2} f(X_i)+f(1-X_i)  \n",
    "$$"
   ]
  },
  {
   "cell_type": "markdown",
   "metadata": {},
   "source": [
    "> **4.b** Justifier théoriquement que la variance de $\\hat I^{VA}_n$ est inférieure à celle de $\\hat I_n$. Comparer numériquement les variances de ces estimateurs."
   ]
  },
  {
   "cell_type": "markdown",
   "metadata": {},
   "source": [
    "<font color='blue'>\n",
    "$Var(\\hat I_n) = \\frac{16}{n} Var(f(X_1))$ et $Var(\\hat I^{VA}_n) = Var(\\hat I_n) + \\frac{16}{n} Cov[f(X_1),f(1-X_1)]$ <br>\n",
    "Par ailleurs, $x \\mapsto f(x) $ est monotone (décroissante) sur $[0;1]$ et $x \\mapsto \\phi(x) = 1-x $ est non croissante sur ce même segment donc, d'après un théorème du cours :\n",
    "$$\n",
    "Cov[f(X_1),f(\\phi(X_1))] \\leq 0\n",
    "$$\n",
    "Par conséquent :\n",
    "$$\n",
    "Var(\\hat I^{VA}_n) \\leq Var(\\hat I_n) \n",
    "$$"
   ]
  },
  {
   "cell_type": "code",
   "execution_count": 8,
   "metadata": {},
   "outputs": [
    {
     "data": {
      "text/plain": [
       "<matplotlib.legend.Legend at 0x24304060d30>"
      ]
     },
     "execution_count": 8,
     "metadata": {},
     "output_type": "execute_result"
    },
    {
     "data": {
      "image/png": "[encoded data removed]",
      "text/plain": [
       "<Figure size 432x288 with 1 Axes>"
      ]
     },
     "metadata": {
      "needs_background": "light"
     },
     "output_type": "display_data"
    }
   ],
   "source": [
    "def I_va(n) :\n",
    "    In = 0\n",
    "    x = rd.uniform(0,1,int(n/2))\n",
    "    for i in range(int(n/2)) :\n",
    "        In += f(x[i]) + f(1-x[i])\n",
    "    return(4*In/n)\n",
    "\n",
    "def var_I(n,p) :\n",
    "    L = []\n",
    "    for i in range(1,n+1) :\n",
    "        I = []\n",
    "        for j in range(n,p) :\n",
    "            I.append(4*Yn_bar(i))\n",
    "        L.append(n*np.var(I)/i)\n",
    "    return(L)\n",
    "\n",
    "def var_I_va(n,p) :\n",
    "    L = []\n",
    "    for i in range(1,n+1) :\n",
    "        iva = []\n",
    "        for j in range(p) :\n",
    "            iva.append(I_va(i))\n",
    "        L.append(n*np.var(iva)/i)\n",
    "    return(L)\n",
    "\n",
    "n = 100\n",
    "p = 1000\n",
    "\n",
    "y = var_I(n,p)\n",
    "y_va = var_I_va(n,p)\n",
    "\n",
    "plt.xlabel(\"$n$\")\n",
    "plt.ylabel(\"Variance\")\n",
    "\n",
    "plt.plot(range(10,n+1),y[9:])\n",
    "plt.plot(range(10,n+1),y_va[9:])\n",
    "\n",
    "plt.legend([\"$Var(\\hat I_n$)\",\"$Var(\\hat I^{VA}_n)$\"])"
   ]
  },
  {
   "cell_type": "markdown",
   "metadata": {},
   "source": [
    "> **Question 5.** **Stratification.**\n",
    "\n",
    "> **5.a** Ecrire un estimateur de Monte-Carlo de $I$ avec méthode de stratification utilisant les événements $E_1 = \\left\\{U\\in\\left[0,\\frac12\\right]\\right\\}$ et $E_2 = \\left\\{U\\in\\left[\\frac12,1\\right]\\right\\}$ pour $U$ une variable aléatoire uniforme sur $[0,1]$. On notera cet estimateur $\\hat I^{ST}_n$."
   ]
  },
  {
   "cell_type": "markdown",
   "metadata": {},
   "source": [
    "<font color='blue'>\n",
    "    \n",
    "$(E_{1}, E_{2})$ est un ensemble complet d'événements incompatibles. <br>\n",
    "Alors :\n",
    "$$\n",
    "I = E(f(U)) = E(f(U) | E_1) P(E_1) + E(f(U) | E_2) P(E_2)  \n",
    "$$\n",
    "Comme $U \\sim U(0,1)$, $P(E_1) = P(E_2) = \\frac{1}{2}$, d'où :\n",
    "$$\n",
    "I = \\frac{E(f(U) | E_1) + E(f(U) | E_2)}{2}\n",
    "$$\n",
    "\n",
    "L'estimateur de Monte-Carlo de I avec méthode de stratification est donc :\n",
    "$$\n",
    "\\hat I^{ST}_n = \\frac{1}{2 n_1} \\sum_{i=1}^{n_1} f(U_i^{(1)}) + \\frac{1}{2 n_2} \\sum_{i=1}^{n_2} f(U_i^{(2)})\n",
    "$$\n",
    "où $U_i^{(1)}$ et $U_i^{(2)}$ sont des variables i.i.d. suivant respectivement les loi $U(0,1)| E_1$ et $U(0,1)| E_2$."
   ]
  },
  {
   "cell_type": "markdown",
   "metadata": {},
   "source": [
    "> **5.b** Quelle est la loi de $U$ sachant $E_i$ pour i=1,2 ?"
   ]
  },
  {
   "cell_type": "markdown",
   "metadata": {},
   "source": [
    "<font color='blue'>\n",
    "$$ \n",
    "U | E_{1} \\sim U(0,\\frac{1}{2})\n",
    "$$\n",
    "$$\n",
    "U | E_{2} \\sim U(\\frac{1}{2},1)\n",
    "$$"
   ]
  },
  {
   "cell_type": "markdown",
   "metadata": {},
   "source": [
    "> **5.c** Pour une taille d'échantillon $n$, comment choisir le nombre de réalisations selon la loi de $U$ sachant $E_1$ et le nombre de réalisations selon la loi de $U$ sachant $E_2$ afin de minimiser la variance de l'estimateur. Justifier."
   ]
  },
  {
   "cell_type": "markdown",
   "metadata": {},
   "source": [
    "<font color='blue'>\n",
    "\n",
    "On cherche à avoir une stratification optimale, i.e. une variance de l'estimateur minimale.\n",
    "On fait les calculs pour $n_1$ (même calculs pour $n_2 = n - n_1$). <br>\n",
    "Soit $\\sigma^2 = Var(f(U_1^{(1)})) = Var(f(U_1^{(2)}))$. <br>\n",
    "$$Var(I^{ST}_n)= \\frac{\\sigma^2}{4}(\\frac{1}{n_1} + \\frac{1}{n-n_1})$$. \n",
    "Sa dérivée vaut $-\\frac{\\sigma^2}{4 n_1^2} + \\frac{\\sigma^2}{4 (n-n_1)^2}$ et elle s'annule en $n_1 = \\frac{n}{2}$. <br>\n",
    "Ainsi, dans le cas où $n$ est paire, la variance de l'estimateur est minimale pour :\n",
    "$$\n",
    "n_1 = \\frac{n}{2} = n_{2}\n",
    "$$\n",
    "Ainsi, la stratification optimale est la stratification proportionnelle dans ce cas."
   ]
  },
  {
   "cell_type": "markdown",
   "metadata": {},
   "source": [
    "> **5.d** Comparer numériquement la variance de $\\hat I^{ST}_n$ avec celle de $\\hat I_n$, pour une stratification proportionnelle ou optimale. "
   ]
  },
  {
   "cell_type": "code",
   "execution_count": 9,
   "metadata": {},
   "outputs": [
    {
     "data": {
      "text/plain": [
       "<matplotlib.legend.Legend at 0x243040bb518>"
      ]
     },
     "execution_count": 9,
     "metadata": {},
     "output_type": "execute_result"
    },
    {
     "data": {
      "image/png": "[encoded data removed]",
      "text/plain": [
       "<Figure size 432x288 with 1 Axes>"
      ]
     },
     "metadata": {
      "needs_background": "light"
     },
     "output_type": "display_data"
    }
   ],
   "source": [
    "def I_st(n) :\n",
    "    In = 0\n",
    "    u1 = rd.uniform(0,1/2,int(n/2))\n",
    "    u2 = rd.uniform(1/2,1,int(n/2))\n",
    "    for i in range(int(n/2)) :\n",
    "        In += f(u1[i]) + f(u2[i])\n",
    "    return(In/n)\n",
    "\n",
    "def var_I_st(n,p) :\n",
    "    L = []\n",
    "    for i in range(1,n+1) :\n",
    "        ist = []\n",
    "        for j in range(p) :\n",
    "            ist.append(I_st(i))\n",
    "        L.append(n*np.var(ist)/i)\n",
    "    return(L)\n",
    "\n",
    "n = 100\n",
    "p = 1000\n",
    "y = var_I(n,p)\n",
    "y_st = var_I_st(n,p)\n",
    "\n",
    "plt.xlabel(\"$n$\")\n",
    "plt.ylabel(\"Variance\")\n",
    "\n",
    "plt.plot(range(10,n+1),y[9:])\n",
    "plt.plot(range(10,n+1),y_st[9:])\n",
    "\n",
    "plt.legend([\"$Var(\\hat I_n$)\",\"$Var(\\hat I^{ST}_n)$\"])"
   ]
  },
  {
   "cell_type": "markdown",
   "metadata": {},
   "source": [
    "> **5.e** Reprendre les questions 5a à 5d pour deux intervalles $\\left[0,\\frac13\\right]$ et $\\left[\\frac13,1\\right]$. Commenter."
   ]
  },
  {
   "cell_type": "markdown",
   "metadata": {},
   "source": [
    "<font color='blue'>\n",
    "$E_1 = \\left\\{U\\in\\left[0,\\frac13\\right]\\right\\}$ et $E_2 = \\left\\{U\\in\\left[\\frac13,1\\right]\\right\\}$    <br>\n",
    "$(E_{1}, E_{2})$ est un ensemble complet d'événements incompatibles. <br>\n",
    "Alors :\n",
    "$$\n",
    "I = E(f(U)) = E(f(U) | E_1) P(E_1) + E(f(U) | E_2) P(E_2)  \n",
    "$$\n",
    "avec : $P(E_1) = \\frac13$ et $P(E_2) = \\frac23$, d'où :\n",
    "$$\n",
    "I = \\frac{E(f(U) | E_1) + 2 E(f(U) | E_2)}{3}\n",
    "$$\n",
    "\n",
    "L'estimateur de Monte-Carlo de I avec méthode de stratification est donc :\n",
    "$$\n",
    "\\hat I^{ST}_n = \\frac{1}{3 n_1} \\sum_{i=1}^{n_1} f(U_i^{(1)}) + \\frac{2}{3 n_2} \\sum_{i=1}^{n_2} f(U_i^{(2)})\n",
    "$$\n",
    "où $U_i^{(1)}$ et $U_i^{(2)}$ sont des variables i.i.d. suivant respectivement les loi $U(0,1)| E_1$ et $U(0,1)| E_2$.\n",
    "$$ \n",
    "U | E_{1} \\sim U(0,\\frac13)\n",
    "$$\n",
    "$$\n",
    "U | E_{2} \\sim U(\\frac13,1)\n",
    "$$\n",
    "On cherche à avoir une stratification optimale, i.e. une variance de l'estimateur minimale.\n",
    "On fait les calculs pour $n_1$ (même calculs pour $n_2 = n - n_1$). <br>\n",
    "Ainsi, dans le cas où $n$ est divisible par 5, la variance de l'estimateur est minimale pour :\n",
    "$$\n",
    "n_{1,opti} = n \\times \\frac{P(E_1)\\sigma_1}{P(E_1)\\sigma_1 + P(E_2)\\sigma_2} \n",
    "= n \\times \\frac{\\frac19 \\frac{1}{\\sqrt{12}}}{\\frac19 \\frac{1}{\\sqrt{12}} + \\frac49 \\frac{1}{\\sqrt{12}}} \n",
    "= \\frac{n}{5}\n",
    "$$\n",
    "Pour avoir une stratification proportionnelle, il faut prendre :\n",
    "$$n_{1,prop} = \\frac{n}{3}$$"
   ]
  },
  {
   "cell_type": "code",
   "execution_count": 10,
   "metadata": {},
   "outputs": [
    {
     "data": {
      "text/plain": [
       "<matplotlib.legend.Legend at 0x24304168f98>"
      ]
     },
     "execution_count": 10,
     "metadata": {},
     "output_type": "execute_result"
    },
    {
     "data": {
      "image/png": "[encoded data removed]",
      "text/plain": [
       "<Figure size 432x288 with 1 Axes>"
      ]
     },
     "metadata": {
      "needs_background": "light"
     },
     "output_type": "display_data"
    }
   ],
   "source": [
    "def I_st5_opti(n1,n2) :\n",
    "    In1 = 0\n",
    "    In2 = 0\n",
    "    In = 0\n",
    "    u1 = rd.uniform(0,1/3,n1)\n",
    "    u2 = rd.uniform(1/3,1,n2)\n",
    "    for i in range(n1) :\n",
    "        In1 += f(u1[i])\n",
    "    In1 = In1/(3*n1)\n",
    "    for i in range(n2):\n",
    "        In2 += f(u2[i])\n",
    "    In2 = 2*In2/(3*n2)\n",
    "    In = In1 + In2\n",
    "    return(In)\n",
    "\n",
    "def var_I_st_opti(n1,n2,p) :\n",
    "    x = []\n",
    "    y = []\n",
    "    prop = n1/(n1+n2)\n",
    "    for i in range(1,n1+n2+1) :\n",
    "        L = []\n",
    "        i1 = int(prop*i)\n",
    "        i2 = i - i1\n",
    "        if (i1 > 0 and i2 > 0):\n",
    "            x.append(i)\n",
    "            for j in range(p) :\n",
    "                L.append(I_st5_opti(i1,i2))\n",
    "            y.append(n*np.var(L)/i)\n",
    "    return [x,y]\n",
    "\n",
    "n = 150\n",
    "p = 1000\n",
    "n1_opt = int(n/5)\n",
    "n1_prop = int(n/3)\n",
    "\n",
    "y = var_I(n,p)\n",
    "x_opt,y_opt = var_I_st_opti(n1_opt,n-n1_opt,p)\n",
    "x_prop,y_prop = var_I_st_opti(n1_prop,n-n1_prop,p)\n",
    "\n",
    "plt.xlabel(\"$n$\")\n",
    "plt.ylabel(\"Variance\")\n",
    "\n",
    "plt.plot(range(10,n+1),y[9:])\n",
    "plt.plot(x_opt[9:],y_opt[9:])\n",
    "plt.plot(x_prop[9:],y_prop[9:])\n",
    "\n",
    "plt.legend([\"$Var(\\hat I_n)$\",\"$Var(\\hat I^{ST,opt}_n)$\",\"$Var(\\hat I^{ST,prop}_n)$\"])"
   ]
  },
  {
   "cell_type": "markdown",
   "metadata": {},
   "source": [
    "> **Question 6.**  **Variable de contrôle.**\n",
    "\n",
    "> **6.a** Donner l'expression du polynôme $p(x)$ de degré $2$ qui interpole $f(x)$ aux points $0$, $\\frac{1}{2}$ et $1$. "
   ]
  },
  {
   "cell_type": "markdown",
   "metadata": {},
   "source": [
    "<font color='blue'>\n",
    "\n",
    "Soit $p(x) = a_0 + a_1 x + a_2 x^2$ <br>\n",
    "$p(0) = f(0)$, $p(\\frac12) = f(\\frac12)$ et $p(1) = f(1)$ <br>\n",
    "D'où \n",
    "    $$ p(x) = 1-\\frac{3}{10}x - \\frac{1}{5} x^2$$"
   ]
  },
  {
   "cell_type": "markdown",
   "metadata": {},
   "source": [
    "> **6.b** Proposer un estimateur $\\hat I^{VC}$ de $\\pi$ en utilisant $p(U)$ comme variable de contrôle, où $U$ est une variable uniforme sur $[0,1]$."
   ]
  },
  {
   "cell_type": "markdown",
   "metadata": {},
   "source": [
    "<font color='blue'>\n",
    "Un estimateur $\\hat I^{VC}$ de $\\pi$ en utilisant p(U) comme variable de contrôle est :\n",
    "$$\n",
    "\\hat I^{VC} = \\frac{1}{n} \\sum_{i=1}^n (f(U_i) - p(U_i)) + E(p(U))\n",
    "$$"
   ]
  },
  {
   "cell_type": "markdown",
   "metadata": {},
   "source": [
    "> **6.c** Comparer numériquement la variance de cette estimateur avec celle de $\\hat I_n$. "
   ]
  },
  {
   "cell_type": "code",
   "execution_count": 11,
   "metadata": {},
   "outputs": [
    {
     "data": {
      "text/plain": [
       "<matplotlib.legend.Legend at 0x243040d1fd0>"
      ]
     },
     "execution_count": 11,
     "metadata": {},
     "output_type": "execute_result"
    },
    {
     "data": {
      "image/png": "[encoded data removed]",
      "text/plain": [
       "<Figure size 432x288 with 1 Axes>"
      ]
     },
     "metadata": {
      "needs_background": "light"
     },
     "output_type": "display_data"
    }
   ],
   "source": [
    "def poly(x):\n",
    "    return(1-(3/10)*x-(1/5)*(x**2))\n",
    "\n",
    "def I_vc(n):\n",
    "    I = 0\n",
    "    u = rd.uniform(0,1,n)\n",
    "    P = []\n",
    "    for i in range(n) :\n",
    "        I += f(u[i]) + poly(u[i])\n",
    "        P.append(poly(u[i]))\n",
    "    return((I/n)+np.mean(P))\n",
    "\n",
    "def var_I_vc(n,p):\n",
    "    L = []\n",
    "    for i in range(1,n+1):\n",
    "        ivc = []\n",
    "        for j in range(p) :\n",
    "            ivc.append(I_vc(i))\n",
    "        L.append(n*np.var(ivc)/i)\n",
    "    return(L)\n",
    "\n",
    "n = 100\n",
    "p = 500\n",
    "\n",
    "y = var_I(n,p)\n",
    "y_vc = var_I_vc(n,p)\n",
    "\n",
    "plt.xlabel(\"$n$\")\n",
    "plt.ylabel(\"Variance\")\n",
    "\n",
    "plt.plot(range(10,n+1),y[9:])\n",
    "plt.plot(range(10,n+1),y_st[9:])\n",
    "\n",
    "plt.legend([\"$Var(\\hat I_n$)\",\"$Var(\\hat I^{ST}_n)$\"])"
   ]
  }
 ],
 "metadata": {
  "kernelspec": {
   "display_name": "Python 3",
   "language": "python",
   "name": "python3"
  },
  "language_info": {
   "codemirror_mode": {
    "name": "ipython",
    "version": 3
   },
   "file_extension": ".py",
   "mimetype": "text/x-python",
   "name": "python",
   "nbconvert_exporter": "python",
   "pygments_lexer": "ipython3",
   "version": "3.7.7"
  }
 },
 "nbformat": 4,
 "nbformat_minor": 2
}
